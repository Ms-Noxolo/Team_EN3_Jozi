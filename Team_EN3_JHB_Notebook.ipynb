{
  "nbformat": 4,
  "nbformat_minor": 0,
  "metadata": {
    "colab": {
      "name": "Team_EN3_JHB_Notebook.ipynb",
      "provenance": [],
      "authorship_tag": "ABX9TyNzjJW9YbzGUX1uX74TLgfF",
      "include_colab_link": true
    },
    "kernelspec": {
      "name": "python3",
      "display_name": "Python 3"
    }
  },
  "cells": [
    {
      "cell_type": "markdown",
      "metadata": {
        "id": "view-in-github",
        "colab_type": "text"
      },
      "source": [
        "<a href=\"https://colab.research.google.com/github/Ms-Noxolo/Team_EN3_Jozi/blob/master/Team_EN3_JHB_Notebook.ipynb\" target=\"_parent\"><img src=\"https://colab.research.google.com/assets/colab-badge.svg\" alt=\"Open In Colab\"/></a>"
      ]
    },
    {
      "cell_type": "markdown",
      "metadata": {
        "id": "m-nkZpMWBqnQ",
        "colab_type": "text"
      },
      "source": [
        "# Team EN3 Unsupervised Learning predict\n",
        "\n",
        "### Kaggle Submission: Team_EN3_\n",
        "\n",
        "---\n"
      ]
    },
    {
      "cell_type": "markdown",
      "metadata": {
        "id": "b0pH6W5NDOX7",
        "colab_type": "text"
      },
      "source": [
        "**Team Members:** Refiloe Phipa, Selebogo Mosoeu, Itumeleng Ngoetjana, Noxolo Kheswa, Jamie, Nkopane\n",
        "\n",
        "**Supervisor :** Ebrahim Noormahomed"
      ]
    },
    {
      "cell_type": "markdown",
      "metadata": {
        "id": "niygTTlPF6Gs",
        "colab_type": "text"
      },
      "source": [
        "### Table of content\n",
        "---\n",
        "1.   [Introduction](#intro)\n",
        "  *   Background\n",
        "  *   Problem statement\n",
        "---\n",
        "2.   [Load Dependencies](#imports)\n",
        "---\n",
        "3.   [Data cleaning](#cleaning)\n",
        "---\n",
        "4.   [Exploratory Data Analysis](#EDA)\n",
        "---\n",
        "5.   [Data preprocessing](#preprocessing)\n",
        "---\n",
        "6.   [Modelling](#modelling)\n",
        "---\n",
        "7.   [Performance Evaluation](#evaluation)\n",
        "---\n",
        "8.   [Conclusion](#ending)\n",
        "\n",
        "\n",
        "\n",
        "\n",
        "\n",
        "\n",
        "\n",
        "\n",
        "\n",
        "\n",
        "\n",
        "\n",
        "\n",
        "\n",
        "\n"
      ]
    },
    {
      "cell_type": "markdown",
      "metadata": {
        "id": "oTF2sD3qE8Bh",
        "colab_type": "text"
      },
      "source": [
        "## 1. Introduction\n",
        "\n",
        "### Background\n",
        "\n",
        "In today’s technology driven world, recommender systems are socially and economically critical for ensuring that individuals can make appropriate choices surrounding the content they engage with on a daily basis. One application where this is especially true surrounds movie content recommendations; where intelligent algorithms can help viewers find great titles from tens of thousands of options.\n",
        "\n",
        "Recommender systems require a broad base access of the user's historical preferences as a result increasing the insights and the accuracy of its future predictions. We can implement an unsupervised machine learning algorithm to solve this problem.\n",
        "\n",
        "Machine learning is the study of computer algorithms that improve automatically through experience. It is a powerful branch of Artificial intelligence, dating as far back as 1952. Machine learning algorithms build a mathematical model based on sample data, known as \"training data\", in order to make predictions or decisions without being explicitly programmed to do so.\n",
        "\n",
        "Unsupervised learning is a type of machine learning that looks for previously undetected patterns in a data set with no pre-existing labels and with a minimum of human supervision.\n",
        "\n",
        "\n",
        "### Problem Statement\n",
        "\n",
        "Build an unsupervised machine learning model that is capable of accurately predicting how a user will rate a movie they have not yet viewed based on their historical preferences based on content or collaborative filtering.\n"
      ]
    },
    {
      "cell_type": "markdown",
      "metadata": {
        "id": "IMlG2XaXmDOV",
        "colab_type": "text"
      },
      "source": [
        "## 2. Load Dependencies"
      ]
    },
    {
      "cell_type": "code",
      "metadata": {
        "id": "DWt78EugTAR5",
        "colab_type": "code",
        "colab": {}
      },
      "source": [
        ""
      ],
      "execution_count": null,
      "outputs": []
    },
    {
      "cell_type": "markdown",
      "metadata": {
        "id": "tj85m-Vol_2A",
        "colab_type": "text"
      },
      "source": [
        "## 3. Data cleaning"
      ]
    },
    {
      "cell_type": "code",
      "metadata": {
        "id": "p8q0PXETmetq",
        "colab_type": "code",
        "colab": {}
      },
      "source": [
        ""
      ],
      "execution_count": null,
      "outputs": []
    },
    {
      "cell_type": "markdown",
      "metadata": {
        "id": "ilLaVegxmizk",
        "colab_type": "text"
      },
      "source": [
        "## 4. Exploratory Data Analysis"
      ]
    },
    {
      "cell_type": "code",
      "metadata": {
        "id": "13NzdSglmrnE",
        "colab_type": "code",
        "colab": {}
      },
      "source": [
        ""
      ],
      "execution_count": null,
      "outputs": []
    },
    {
      "cell_type": "markdown",
      "metadata": {
        "id": "2MQlZ1XXmtJe",
        "colab_type": "text"
      },
      "source": [
        "## 5. Data preprocessing"
      ]
    },
    {
      "cell_type": "code",
      "metadata": {
        "id": "zZPY6RUZmz3k",
        "colab_type": "code",
        "colab": {}
      },
      "source": [
        ""
      ],
      "execution_count": null,
      "outputs": []
    },
    {
      "cell_type": "markdown",
      "metadata": {
        "id": "wdZPykMxm9S8",
        "colab_type": "text"
      },
      "source": [
        "## 6. Modelling"
      ]
    },
    {
      "cell_type": "code",
      "metadata": {
        "id": "zH_hD0UbnB4E",
        "colab_type": "code",
        "colab": {}
      },
      "source": [
        ""
      ],
      "execution_count": null,
      "outputs": []
    },
    {
      "cell_type": "markdown",
      "metadata": {
        "id": "1LMdofqynGa1",
        "colab_type": "text"
      },
      "source": [
        "## 7. Performance Evaluation"
      ]
    },
    {
      "cell_type": "code",
      "metadata": {
        "id": "rtkahZdfnJbn",
        "colab_type": "code",
        "colab": {}
      },
      "source": [
        ""
      ],
      "execution_count": null,
      "outputs": []
    },
    {
      "cell_type": "markdown",
      "metadata": {
        "id": "MxZE3w3JnRAY",
        "colab_type": "text"
      },
      "source": [
        "## 8. Conclusion"
      ]
    },
    {
      "cell_type": "code",
      "metadata": {
        "id": "KQ9B_LqpnVPY",
        "colab_type": "code",
        "colab": {}
      },
      "source": [
        ""
      ],
      "execution_count": null,
      "outputs": []
    }
  ]
}