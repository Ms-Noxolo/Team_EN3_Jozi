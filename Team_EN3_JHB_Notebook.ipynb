{
  "nbformat": 4,
  "nbformat_minor": 0,
  "metadata": {
    "colab": {
      "name": "Team_EN3_JHB_Notebook.ipynb",
      "provenance": [],
      "include_colab_link": true
    },
    "kernelspec": {
      "display_name": "Python 3",
      "language": "python",
      "name": "python3"
    },
    "language_info": {
      "codemirror_mode": {
        "name": "ipython",
        "version": 3
      },
      "file_extension": ".py",
      "mimetype": "text/x-python",
      "name": "python",
      "nbconvert_exporter": "python",
      "pygments_lexer": "ipython3",
      "version": "3.7.6"
    }
  },
  "cells": [
    {
      "cell_type": "markdown",
      "metadata": {
        "id": "view-in-github",
        "colab_type": "text"
      },
      "source": [
        "<a href=\"https://colab.research.google.com/github/Ms-Noxolo/Team_EN3_Jozi/blob/master/Team_EN3_JHB_Notebook.ipynb\" target=\"_parent\"><img src=\"https://colab.research.google.com/assets/colab-badge.svg\" alt=\"Open In Colab\"/></a>"
      ]
    },
    {
      "cell_type": "markdown",
      "metadata": {
        "colab_type": "text",
        "id": "m-nkZpMWBqnQ"
      },
      "source": [
        "# Team EN3 Unsupervised Learning predict\n",
        "\n",
        "### Kaggle Submission: Team_EN3_\n",
        "\n",
        "---\n"
      ]
    },
    {
      "cell_type": "markdown",
      "metadata": {
        "colab_type": "text",
        "id": "b0pH6W5NDOX7"
      },
      "source": [
        "**Team Members:** Refiloe Phipa, Selebogo Mosoeu, Itumeleng Ngoetjana, Noxolo Kheswa, Jamie Japhta, Nkopane\n",
        "\n",
        "**Supervisor :** Ebrahim Noormahomed"
      ]
    },
    {
      "cell_type": "markdown",
      "metadata": {
        "colab_type": "text",
        "id": "niygTTlPF6Gs"
      },
      "source": [
        "### Table of content\n",
        "---\n",
        "1.   [Introduction](#intro)\n",
        "  *   Background\n",
        "  *   Problem statement\n",
        "---\n",
        "2.   [Load Dependencies](#imports)\n",
        "---\n",
        "3.   [Data cleaning](#cleaning)\n",
        "---\n",
        "4.   [Data preprocessing](#preprocessing)\n",
        "---\n",
        "5.   [Exploratory Data Analysis](#EDA)\n",
        "---\n",
        "6.   [Modelling](#modelling)\n",
        "---\n",
        "7.   [Performance Evaluation](#evaluation)\n",
        "---\n",
        "8.   [Conclusion](#ending)\n",
        "---\n",
        "9.  [References](#ending)\n",
        "\n",
        "\n",
        "\n",
        "\n",
        "\n",
        "\n",
        "\n",
        "\n",
        "\n",
        "\n",
        "\n",
        "\n",
        "\n",
        "\n"
      ]
    },
    {
      "cell_type": "markdown",
      "metadata": {
        "colab_type": "text",
        "id": "oTF2sD3qE8Bh"
      },
      "source": [
        "# 1. Introduction\n",
        "\n",
        "### Background\n",
        "\n",
        "In today’s technology driven world, recommender systems are socially and economically critical for ensuring that individuals can make appropriate choices surrounding the content they engage with on a daily basis. One application where this is especially true surrounds movie content recommendations; where intelligent algorithms can help viewers find great titles from tens of thousands of options.\n",
        "\n",
        "Recommender systems require a broad base access of the user's historical preferences as a result increasing the insights and the accuracy of its future predictions. We can implement an unsupervised machine learning algorithm to solve this problem.\n",
        "\n",
        "Machine learning is the study of computer algorithms that improve automatically through experience. It is a powerful branch of Artificial intelligence, dating as far back as 1952. Machine learning algorithms build a mathematical model based on sample data, known as \"training data\", in order to make predictions or decisions without being explicitly programmed to do so.\n",
        "\n",
        "Unsupervised learning is a type of machine learning that looks for previously undetected patterns in a data set with no pre-existing labels and with a minimum of human supervision.\n",
        "\n",
        "\n",
        "### Problem Statement\n",
        "\n",
        "Build an unsupervised machine learning model that is capable of accurately predicting how a user will rate a movie they have not yet viewed based on their historical preferences based on content or collaborative filtering.\n"
      ]
    },
    {
      "cell_type": "markdown",
      "metadata": {
        "colab_type": "text",
        "id": "IMlG2XaXmDOV"
      },
      "source": [
        "# 2. Load Dependencies"
      ]
    },
    {
      "cell_type": "code",
      "metadata": {
        "colab_type": "code",
        "id": "DWt78EugTAR5",
        "colab": {
          "base_uri": "https://localhost:8080/",
          "height": 138
        },
        "outputId": "9f0cfaec-e6ad-4dc1-c62d-57666b1d5a28"
      },
      "source": [
        "# importing the libraries\n",
        "import numpy as np\n",
        "import pandas as pd\n",
        "import seaborn as sns\n",
        "import math\n",
        "import random\n",
        "from nltk.corpus import stopwords\n",
        "from scipy.sparse import csr_matrix\n",
        "from sklearn.model_selection import train_test_split\n",
        "from sklearn.feature_extraction.text import TfidfVectorizer\n",
        "from scipy.sparse.linalg import svds\n",
        "from sklearn.preprocessing import MinMaxScaler\n",
        "\n",
        "import matplotlib.pyplot as plt \n",
        "import json\n",
        "%matplotlib inline\n",
        "import re\n",
        "from wordcloud import WordCloud\n",
        "\n",
        "!pip install scikit-surprise\n",
        "from surprise import Reader, Dataset, SVD\n",
        "from surprise.model_selection import cross_validate\n",
        "from sklearn.metrics.pairwise import cosine_similarity\n",
        "from sklearn.feature_extraction.text import CountVectorizer\n",
        "from surprise import NormalPredictor\n",
        "from surprise import SVDpp\n",
        "from surprise import NMF"
      ],
      "execution_count": 2,
      "outputs": [
        {
          "output_type": "stream",
          "text": [
            "/usr/local/lib/python3.6/dist-packages/statsmodels/tools/_testing.py:19: FutureWarning: pandas.util.testing is deprecated. Use the functions in the public API at pandas.testing instead.\n",
            "  import pandas.util.testing as tm\n"
          ],
          "name": "stderr"
        },
        {
          "output_type": "stream",
          "text": [
            "Requirement already satisfied: scikit-surprise in /usr/local/lib/python3.6/dist-packages (1.1.1)\n",
            "Requirement already satisfied: numpy>=1.11.2 in /usr/local/lib/python3.6/dist-packages (from scikit-surprise) (1.18.5)\n",
            "Requirement already satisfied: joblib>=0.11 in /usr/local/lib/python3.6/dist-packages (from scikit-surprise) (0.16.0)\n",
            "Requirement already satisfied: scipy>=1.0.0 in /usr/local/lib/python3.6/dist-packages (from scikit-surprise) (1.4.1)\n",
            "Requirement already satisfied: six>=1.10.0 in /usr/local/lib/python3.6/dist-packages (from scikit-surprise) (1.15.0)\n"
          ],
          "name": "stdout"
        }
      ]
    },
    {
      "cell_type": "code",
      "metadata": {
        "id": "U29kIQrDMPIQ",
        "colab_type": "code",
        "colab": {}
      },
      "source": [
        "#from google.colab import files\n",
        "#uploaded = files.upload()"
      ],
      "execution_count": 1,
      "outputs": []
    },
    {
      "cell_type": "code",
      "metadata": {
        "id": "z0H2OrHCK-cc",
        "colab_type": "code",
        "colab": {}
      },
      "source": [
        "# loading in the datasets\n",
        "train = pd.read_csv(\"train.csv\")\n",
        "test = pd.read_csv(\"test.csv\")\n",
        "movies = pd.read_csv(\"movies.csv\")\n",
        "links = pd.read_csv('links.csv')\n",
        "tags = pd.read_csv('tags.csv')\n",
        "imdb = pd.read_csv('imdb_data.csv')\n",
        "scores = pd.read_csv('genome_scores.csv')\n",
        "Sample_Submission = pd.read_csv('sample_submission.csv')"
      ],
      "execution_count": null,
      "outputs": []
    },
    {
      "cell_type": "markdown",
      "metadata": {
        "colab_type": "text",
        "id": "tj85m-Vol_2A"
      },
      "source": [
        "# 3. Data Overview"
      ]
    },
    {
      "cell_type": "markdown",
      "metadata": {
        "id": "r204txNzNMSe",
        "colab_type": "text"
      },
      "source": [
        "Below we take a general review and summary of the datasets taking note of the shapes, info and features i.e. columns all of which will help us establish a good approach into performing the exploratory data analyses of the datasets."
      ]
    },
    {
      "cell_type": "code",
      "metadata": {
        "colab_type": "code",
        "id": "p8q0PXETmetq",
        "colab": {}
      },
      "source": [
        "# The movies dataframe\n",
        "print(movies.shape)\n",
        "movies.head()"
      ],
      "execution_count": null,
      "outputs": []
    },
    {
      "cell_type": "code",
      "metadata": {
        "id": "-E6OTZzbMCRi",
        "colab_type": "code",
        "colab": {}
      },
      "source": [
        "# The links dataframe\n",
        "print(links.shape)\n",
        "links.head()"
      ],
      "execution_count": null,
      "outputs": []
    },
    {
      "cell_type": "markdown",
      "metadata": {
        "id": "1ppEM6w1NWnK",
        "colab_type": "text"
      },
      "source": [
        "Given the similar shape of the movie and links i.e. movie homepage dataframes, we can already note that the two dataframes can be merged to form a metadataset using the Ids of the movies."
      ]
    },
    {
      "cell_type": "code",
      "metadata": {
        "id": "dkRxK5JuMCY4",
        "colab_type": "code",
        "colab": {}
      },
      "source": [
        "# Overview of the training dataframe\n",
        "train.head()"
      ],
      "execution_count": null,
      "outputs": []
    },
    {
      "cell_type": "code",
      "metadata": {
        "id": "LQe6e_WIMCWR",
        "colab_type": "code",
        "colab": {}
      },
      "source": [
        "# The ratings dataframe\n",
        "ratings = train[:10000]\n",
        "print(ratings.shape)\n",
        "ratings.head()"
      ],
      "execution_count": null,
      "outputs": []
    },
    {
      "cell_type": "markdown",
      "metadata": {
        "id": "p_GZqmyeNrVX",
        "colab_type": "text"
      },
      "source": [
        "It is not surpring that this dataframe has alomst 2x more entries than the movie dataset because an individual user can watch more than one movies and also provide ratings for a selection of various movies."
      ]
    },
    {
      "cell_type": "code",
      "metadata": {
        "id": "BLSdm6FbMCOR",
        "colab_type": "code",
        "colab": {}
      },
      "source": [
        "# The imdb dataframe\n",
        "print(imdb.head())\n",
        "print(imdb.shape)"
      ],
      "execution_count": null,
      "outputs": []
    },
    {
      "cell_type": "markdown",
      "metadata": {
        "id": "YOggmtDHNyLo",
        "colab_type": "text"
      },
      "source": [
        "This dataframe consists of additional movie metadata scraped from IMDB using the links.csv file. These include cast/crew, budgets, plots as well as the runtime. The IMDB platform has its own movie-listing requirements therefore this could be the reason why the dataframe doesn't capture all the movies in the links.csv"
      ]
    },
    {
      "cell_type": "code",
      "metadata": {
        "id": "WtmwOCZgNHOo",
        "colab_type": "code",
        "colab": {}
      },
      "source": [
        "# The tags dataframe\n",
        "print(tags.head())\n",
        "print(tags.shape)"
      ],
      "execution_count": null,
      "outputs": []
    },
    {
      "cell_type": "code",
      "metadata": {
        "id": "bnk1GYPVNHK-",
        "colab_type": "code",
        "colab": {}
      },
      "source": [
        "# The scores dataframe\n",
        "print(scores.head())\n",
        "print(scores.shape)"
      ],
      "execution_count": null,
      "outputs": []
    },
    {
      "cell_type": "markdown",
      "metadata": {
        "id": "p6hT01WeN82a",
        "colab_type": "text"
      },
      "source": [
        "We will see if the presence of the timestamp feature is off importance in building a suitable recommender systems."
      ]
    },
    {
      "cell_type": "code",
      "metadata": {
        "id": "dflrL62HNHH0",
        "colab_type": "code",
        "colab": {}
      },
      "source": [
        "# Overview of the testing dataframe\n",
        "test.head()"
      ],
      "execution_count": null,
      "outputs": []
    },
    {
      "cell_type": "markdown",
      "metadata": {
        "id": "9_rDIUZqOKct",
        "colab_type": "text"
      },
      "source": [
        "This is the dataset that will be used in testing the algorithms build for constructing recommender systems."
      ]
    },
    {
      "cell_type": "markdown",
      "metadata": {
        "colab_type": "text",
        "id": "2MQlZ1XXmtJe"
      },
      "source": [
        "# 4. Data preprocessing"
      ]
    },
    {
      "cell_type": "markdown",
      "metadata": {
        "id": "ZwlH-HF8OnBv",
        "colab_type": "text"
      },
      "source": [
        "Data preprocessing is the process of detecting and correcting corrupt or inaccurate records from the dataset and identifying incomplete, incorrect, inaccurate or irrelevant parts of the data."
      ]
    },
    {
      "cell_type": "code",
      "metadata": {
        "colab_type": "code",
        "id": "13NzdSglmrnE",
        "colab": {}
      },
      "source": [
        "# Storing the years from the titles separately:\n",
        "\n",
        "# We specify the parantheses so we don’t conflict with movies that have years in their titles\n",
        "movies[\"year\"] = movies.title.str.extract(\"(\\(\\d\\d\\d\\d\\))\",expand=False)\n",
        "# Removing the parentheses\n",
        "movies[\"year\"] = movies.year.str.extract(\"(\\d\\d\\d\\d)\",expand=False)\n",
        "# Removing the years from the ‘title’ column\n",
        "movies[\"title\"] = movies.title.str.replace(\"(\\(\\d\\d\\d\\d\\))\", \"\")\n",
        "# Applying the strip function to get rid of any ending whitespace characters that may have appeared\n",
        "movies[\"title\"] = movies[\"title\"].apply(lambda x: x.strip())"
      ],
      "execution_count": null,
      "outputs": []
    },
    {
      "cell_type": "code",
      "metadata": {
        "id": "s2o_yuv-PABb",
        "colab_type": "code",
        "colab": {}
      },
      "source": [
        "movies['genres'] = movies['genres'].str.replace('|',' ')\n",
        "movies.head()"
      ],
      "execution_count": null,
      "outputs": []
    },
    {
      "cell_type": "code",
      "metadata": {
        "id": "jj-9IK4cPAM-",
        "colab_type": "code",
        "colab": {}
      },
      "source": [
        "users = len(ratings.userId.unique())\n",
        "items = len(ratings.movieId.unique())\n",
        "print('There are {} unique users and {} unique movies in this data set'.format(num_users, num_items))"
      ],
      "execution_count": null,
      "outputs": []
    },
    {
      "cell_type": "code",
      "metadata": {
        "id": "JdxL6650PAUV",
        "colab_type": "code",
        "colab": {}
      },
      "source": [
        "max_userId = df_ratings.userId.max()\n",
        "max_itemId = df_ratings.movieId.max()\n",
        "print('There are {} distinct users and the max of user ID is also {}'.format(num_users, user_maxId))\n",
        "print('There are {} distinct movies, however, the max of movie ID is {}'.format(num_items, item_maxId))"
      ],
      "execution_count": null,
      "outputs": []
    },
    {
      "cell_type": "markdown",
      "metadata": {
        "id": "8z2p128GQ4pO",
        "colab_type": "text"
      },
      "source": [
        "For matrix factorization, a item vector that is in unnecessarily high dimensional space requires data cleaning to reduce the dimension of item vector back to the number of items i.e.Movies"
      ]
    },
    {
      "cell_type": "code",
      "metadata": {
        "id": "dvcDK3PpPAaF",
        "colab_type": "code",
        "colab": {}
      },
      "source": [
        "def reduce_item_dim(df_ratings):\n",
        "    \"\"\"\n",
        "    Reduce item vector dimension to the number of distinct items in our data sets\n",
        "    \n",
        "    input: pd.DataFrame, df_ratings should have columns ['userId', 'movieId', 'rating']\n",
        "    output: pd.DataFrame, df_ratings with new 'MovieID' that is compressed\n",
        "    \"\"\"\n",
        "    # pivot\n",
        "    df_user_item = df_ratings.pivot(index='userId', columns='movieId', values='rating')\n",
        "    # reset movieId\n",
        "    df_user_item = df_user_item.T.reset_index(drop=True).T\n",
        "    # undo pivot/melt - compress data frame\n",
        "    df_ratings_new = df_user_item \\\n",
        "        .reset_index('userId') \\\n",
        "        .melt(\n",
        "            id_vars='userId', \n",
        "            value_vars=df_user_item.columns,\n",
        "            var_name='movieId',\n",
        "            value_name='rating')\n",
        "    # drop nan and final clean up\n",
        "    return df_ratings_new.dropna().sort_values(['userId', 'movieId']).reset_index(drop=True)"
      ],
      "execution_count": null,
      "outputs": []
    },
    {
      "cell_type": "code",
      "metadata": {
        "id": "c_IsTMsrPAKm",
        "colab_type": "code",
        "colab": {}
      },
      "source": [
        "print('reduce item dimension before:')\n",
        "ratings.head()"
      ],
      "execution_count": null,
      "outputs": []
    },
    {
      "cell_type": "code",
      "metadata": {
        "id": "HahTMPKYPAIV",
        "colab_type": "code",
        "colab": {}
      },
      "source": [
        "new_ratings = reduce_item_dim(ratings.copy())\n",
        "print('reduce item dimension after:')\n",
        "new_ratings.head()"
      ],
      "execution_count": null,
      "outputs": []
    },
    {
      "cell_type": "markdown",
      "metadata": {
        "id": "_wqnFylnRgb3",
        "colab_type": "text"
      },
      "source": [
        "Alternative Filtering and cleaning"
      ]
    },
    {
      "cell_type": "code",
      "metadata": {
        "id": "W4GpphI8PAFG",
        "colab_type": "code",
        "colab": {}
      },
      "source": [
        "#limit ratings to user ratings that have rated more that 55 movies -- \n",
        "ratings_f = ratings.groupby('userId').filter(lambda x: len(x) >= 55)\n",
        "\n",
        "# list the movie titles that survive the filtering\n",
        "movie_list_rating = ratings_f.movieId.unique().tolist()"
      ],
      "execution_count": null,
      "outputs": []
    },
    {
      "cell_type": "code",
      "metadata": {
        "id": "eUE26QXYRnf-",
        "colab_type": "code",
        "colab": {}
      },
      "source": [
        "# The prop of the original movie titles in ratings data frame that we have retained:\n",
        "len(ratings_f.movieId.unique())/len(movies.movieId.unique()) * 100"
      ],
      "execution_count": null,
      "outputs": []
    },
    {
      "cell_type": "code",
      "metadata": {
        "id": "kpI5EM3QRnbq",
        "colab_type": "code",
        "colab": {}
      },
      "source": [
        "# The prop of the users in ratings data frame that we have retained:\n",
        "len(ratings_f.userId.unique())/len(ratings.userId.unique()) * 100"
      ],
      "execution_count": null,
      "outputs": []
    },
    {
      "cell_type": "code",
      "metadata": {
        "id": "RCM5XuRwRt6e",
        "colab_type": "code",
        "colab": {}
      },
      "source": [
        "#filter the movies data frame\n",
        "movies = movies[movies.movieId.isin(movie_list_rating)]"
      ],
      "execution_count": null,
      "outputs": []
    },
    {
      "cell_type": "code",
      "metadata": {
        "id": "9TacIN56Rt1s",
        "colab_type": "code",
        "colab": {}
      },
      "source": [
        "# map movie to id:\n",
        "Mapping_file = dict(zip(movies.title.tolist(), movies.movieId.tolist()))"
      ],
      "execution_count": null,
      "outputs": []
    },
    {
      "cell_type": "code",
      "metadata": {
        "id": "fVYql_SiR0tQ",
        "colab_type": "code",
        "colab": {}
      },
      "source": [
        "# Dropping the timestamps\n",
        "tags.drop(['timestamp'],1, inplace=True)\n",
        "ratings_f.drop(['timestamp'],1, inplace=True)"
      ],
      "execution_count": null,
      "outputs": []
    },
    {
      "cell_type": "markdown",
      "metadata": {
        "id": "OCt0rSh7R5Ut",
        "colab_type": "text"
      },
      "source": [
        "Merging the movies and the tags dataframes and creating a metadata tag for each movie"
      ]
    },
    {
      "cell_type": "code",
      "metadata": {
        "id": "VRQJLiHoR8nU",
        "colab_type": "code",
        "colab": {}
      },
      "source": [
        "# creating the mixed dataframe of movies title, genres and all user tags given to each movie\n",
        "mixed = pd.merge(movies, tags, on='movieId', how='left')\n",
        "mixed.head(3)"
      ],
      "execution_count": null,
      "outputs": []
    },
    {
      "cell_type": "code",
      "metadata": {
        "id": "gNaywGSxR9yJ",
        "colab_type": "code",
        "colab": {}
      },
      "source": [
        "print(metadata.shape)"
      ],
      "execution_count": null,
      "outputs": []
    },
    {
      "cell_type": "markdown",
      "metadata": {
        "id": "e9IkqFIxSPNc",
        "colab_type": "text"
      },
      "source": [
        "Clean metadata"
      ]
    },
    {
      "cell_type": "code",
      "metadata": {
        "id": "mc0M_kSBR9ub",
        "colab_type": "code",
        "colab": {}
      },
      "source": [
        "#Replace NaN with an empty string\n",
        "metadata = metadata.fillna('')\n",
        "\n",
        "# Removing the \"$\": budget\n",
        "cost = []\n",
        "for key, value in metadata[\"budget\"].iteritems():\n",
        "    a = value.replace(\",\" , \"\")\n",
        "    cost.append(a)\n",
        "metadata['budget'] = cost\n",
        "\n",
        "# Replacing the \"|\" with a white space: cast\n",
        "cast = []\n",
        "for key, value in metadata[\"title_cast\"].iteritems():\n",
        "    a = value.replace(\"|\" , \",\")\n",
        "    cast.append(a)\n",
        "metadata['title_cast'] = cast\n",
        "\n",
        "# Replacing the \"|\" with a white space: plot_keywords\n",
        "plot = []\n",
        "for key, value in metadata[\"plot_keywords\"].iteritems():\n",
        "    b = value.replace(\"|\" , \",\")\n",
        "    plot.append(b)\n",
        "metadata['plot_keywords'] = plot\n",
        "\n",
        "\n",
        "# Replacing the \"|\" with a white space: genres\n",
        "genre = []\n",
        "for key, value in metadata[\"genres\"].iteritems():\n",
        "    c = value.replace(\"|\" , \",\")\n",
        "    genre.append(c)\n",
        "metadata['genres'] = genre\n",
        "\n",
        "# Looking at new dataframe\n",
        "metadata.head()"
      ],
      "execution_count": null,
      "outputs": []
    },
    {
      "cell_type": "markdown",
      "metadata": {
        "colab_type": "text",
        "id": "ilLaVegxmizk"
      },
      "source": [
        "# 5. Exploratory Data Analysis\n",
        "\n",
        "We need to perform investigative and detective analysis on our data to see if we can unearth any useful insights. We have data being generated from websites so it’s important to utilize Exploratory Data Analysis to analyze all this text data, with the aid of Visuals to help organizations make data-driven decisions.\n",
        "\n",
        "\n"
      ]
    },
    {
      "cell_type": "markdown",
      "metadata": {
        "id": "DqibDXHjTMrC",
        "colab_type": "text"
      },
      "source": [
        "### The number of movies that are being released\n",
        "Knowing the numbers around movies can help paint a picture of the relationship that exists between movies and 'users' as availability of movies can be play a huge role in the general growth of the movie-audience industry."
      ]
    },
    {
      "cell_type": "code",
      "metadata": {
        "colab_type": "code",
        "id": "zZPY6RUZmz3k",
        "colab": {}
      },
      "source": [
        "# The number of Movies released per year\n",
        "num = metadata.groupby('year').count()\n",
        "plt.figure(figsize=(35,25))\n",
        "plt.plot(num.index, num['budget'])\n",
        "plt.xlabel(\"years\", size=25)\n",
        "plt.xticks(rotation='vertical')\n",
        "plt.ylabel('No. of Movies', size=25)\n",
        "plt.title('Number of Movies Released By year', size=25)\n",
        "plt.show()"
      ],
      "execution_count": null,
      "outputs": []
    },
    {
      "cell_type": "markdown",
      "metadata": {
        "id": "vm_I43dpT2mo",
        "colab_type": "text"
      },
      "source": [
        "Although there has been some drops in the number of movies released throughout the years, it is clear to see that there generally has been a significant growth in movies being released with the growth being exponential around 1990s."
      ]
    },
    {
      "cell_type": "markdown",
      "metadata": {
        "id": "_deY9fZ2T7lD",
        "colab_type": "text"
      },
      "source": [
        "### The years with majority of movies being released\n",
        "Now we want to find out which years are dominating the movie industry."
      ]
    },
    {
      "cell_type": "code",
      "metadata": {
        "id": "XA4kfbWXTQgN",
        "colab_type": "code",
        "colab": {}
      },
      "source": [
        "# Looking at the all the years of movies releases\n",
        "year_corpus = metadata['year'].value_counts()\n",
        "# Generating the wordcolud\n",
        "year_wordcloud = WordCloud(background_color='white', height=2000, width=4000).generate_from_frequencies(year_corpus)\n",
        "plt.figure(figsize=(16,8))\n",
        "plt.imshow(year_wordcloud)\n",
        "plt.axis('off')\n",
        "plt.show()"
      ],
      "execution_count": null,
      "outputs": []
    },
    {
      "cell_type": "markdown",
      "metadata": {
        "id": "Firaoz_pUHhm",
        "colab_type": "text"
      },
      "source": [
        "We can see that the wordcloud is correspodning with the plot above that the movie industry grew exponentially in the 2000s, with 2015 and 2016 being the most frequent yeas of movie releases."
      ]
    },
    {
      "cell_type": "markdown",
      "metadata": {
        "id": "CtFUdW6cURSS",
        "colab_type": "text"
      },
      "source": [
        "### The kind of movies that are being released\n",
        "Now we want to find out which movies, in terms of genre are dominating the movie industry."
      ]
    },
    {
      "cell_type": "code",
      "metadata": {
        "id": "iHGtKEmqTQnZ",
        "colab_type": "code",
        "colab": {}
      },
      "source": [
        "# Looking at the titles and checking for any similarity\n",
        "metadata['genres'] = metadata['genres'].astype('str')\n",
        "genre_corpus = ' '.join(metadata['genres'])\n",
        "#Generating the stopwords\n",
        "stopword = ['no genres', 'no', 'genres', 'genre', 'listed']\n",
        "# Generating the wordcolud\n",
        "genre_wordcloud = WordCloud(stopwords=stopword, background_color='white', height=2000, width=4000).generate(genre_corpus)\n",
        "plt.figure(figsize=(16,8))\n",
        "plt.imshow(genre_wordcloud)\n",
        "plt.axis('off')\n",
        "plt.show()"
      ],
      "execution_count": null,
      "outputs": []
    },
    {
      "cell_type": "markdown",
      "metadata": {
        "id": "8hbbh3iUUcE2",
        "colab_type": "text"
      },
      "source": [
        "We can see that majority of the movies in the dataset are Comedy, Drama and Romance."
      ]
    },
    {
      "cell_type": "code",
      "metadata": {
        "id": "yiYOVdKWUn9j",
        "colab_type": "code",
        "colab": {}
      },
      "source": [
        "# Looking at the titles and checking for any similarity\n",
        "metadata['title'] = metadata['title'].astype('str')\n",
        "title_corpus = ' '.join(metadata['title'])\n",
        "# Generating the wordcolud\n",
        "title_wordcloud = WordCloud(stopwords=STOPWORDS, background_color='white', height=2000, width=4000).generate(title_corpus)\n",
        "plt.figure(figsize=(16,8))\n",
        "plt.imshow(title_wordcloud)\n",
        "plt.axis('off')\n",
        "plt.show()"
      ],
      "execution_count": null,
      "outputs": []
    },
    {
      "cell_type": "markdown",
      "metadata": {
        "id": "3tAorl6JUja9",
        "colab_type": "text"
      },
      "source": [
        "As the worldcloud suggests, there are a lot of movies that pertain tell the stories of a boy and/or girl, movies about wars, crime, America and sequels as indicated by \"II\". These correspond to the genres unpacked above.\n",
        "\n",
        "The dataset consists of 27248 movies for which we have data on overview, cast/crew and budget. This is close to only 44% of the entire dataset. Although this is less than 505 of the entire dataset, it is more than enough to perform very useful analysis and discover interesting insights about the world of movies."
      ]
    },
    {
      "cell_type": "code",
      "metadata": {
        "id": "8EuEL8GVTQka",
        "colab_type": "code",
        "colab": {}
      },
      "source": [
        "# Looking at the plots and checking for any similarity\n",
        "metadata['plot_keywords'] = metadata['plot_keywords'].astype('str')\n",
        "overview_corpus = ' '.join(metadata['plot_keywords'])\n",
        "# Generating the wordcolud\n",
        "plot_wordcloud = WordCloud(stopwords=STOPWORDS, background_color='white', height=2000, width=4000).generate(overview_corpus)\n",
        "plt.figure(figsize=(16,8))\n",
        "plt.imshow(plot_wordcloud)\n",
        "plt.axis('off')\n",
        "plt.show()"
      ],
      "execution_count": null,
      "outputs": []
    },
    {
      "cell_type": "markdown",
      "metadata": {
        "id": "zrNXcKy8UxjP",
        "colab_type": "text"
      },
      "source": [
        "### The runtime of movies that are being released\n",
        "Movies have progressed in terms of runtime, From the 1 minute slient, black & white clips to epic 3 hour gci. So, in this section, let us try and gain some additional insights about the nature of movie lengths and their evolution over time.\n",
        "\n",
        "Now we want to find out the duration of these movies being released are."
      ]
    },
    {
      "cell_type": "code",
      "metadata": {
        "id": "PWRU5CZGUduv",
        "colab_type": "code",
        "colab": {}
      },
      "source": [
        "# converting the column to numeric\n",
        "metadata['runtime'] = pd.to_numeric(metadata['runtime'])\n",
        "\n",
        "# Viewing relative durations of the movies\n",
        "metadata['runtime'].describe()"
      ],
      "execution_count": null,
      "outputs": []
    },
    {
      "cell_type": "markdown",
      "metadata": {
        "id": "IgEVuyb_VKbB",
        "colab_type": "text"
      },
      "source": [
        "\n",
        "This is only a subset of the dataset i.e. 22%, and from this wee can see that the average length of a movie is about 1 hour and 40 minutes. The longest movie recorded in this dataset is 877 minutes (or 14 hours) long."
      ]
    },
    {
      "cell_type": "code",
      "metadata": {
        "id": "GeELA0WOUd2j",
        "colab_type": "code",
        "colab": {}
      },
      "source": [
        "# The distribution of these mainstream movies .i.e movies less than 3 hours (or 200 minutes) long. \n",
        "plt.figure(figsize=(12,6))\n",
        "sns.distplot(metadata[(metadata['runtime'] < 200) & (metadata['runtime'] > 0)]['runtime'])"
      ],
      "execution_count": null,
      "outputs": []
    },
    {
      "cell_type": "markdown",
      "metadata": {
        "id": "TlMfnhwQVZMn",
        "colab_type": "text"
      },
      "source": [
        "Possible trends in what may be considered as the appropriate length of a movie across the years."
      ]
    },
    {
      "cell_type": "code",
      "metadata": {
        "id": "c-9ps9G-Ud0x",
        "colab_type": "code",
        "colab": {}
      },
      "source": [
        "# Looking at the shortest Movies\n",
        "metadata[metadata['runtime'] > 0][['runtime', 'title', 'year']].sort_values('runtime').head(10)"
      ],
      "execution_count": null,
      "outputs": []
    },
    {
      "cell_type": "markdown",
      "metadata": {
        "id": "KBYa6GC9Vhwt",
        "colab_type": "text"
      },
      "source": [
        "Majority of the short movies were filmed in the late 1890s and the beginning of the 20th century and they're absurdly only a minute long. The exceptn in the Top 10 are Fresh Guacamole released in 2012 and Curb Dance released in 2010 both being two minutes long."
      ]
    },
    {
      "cell_type": "code",
      "metadata": {
        "id": "ZzsELC3xUdyL",
        "colab_type": "code",
        "colab": {}
      },
      "source": [
        "# Looking at the longest Movies\n",
        "metadata[metadata['runtime'] > 0][['runtime', 'title', 'year']].sort_values('runtime', ascending=False).head(10)"
      ],
      "execution_count": null,
      "outputs": []
    },
    {
      "cell_type": "markdown",
      "metadata": {
        "id": "Xl345V6nVtzY",
        "colab_type": "text"
      },
      "source": [
        "Notably, almost all the entries in the above list were released in the 2000s and are actually miniseries and sequels and as such, can't count as feature length films. There isn't much insight we can gther from this as there is no way of distinguishing feature length films from TV Mini Series from our dataset unless done manually, and this could take days."
      ]
    },
    {
      "cell_type": "code",
      "metadata": {
        "id": "YGestSMTVltI",
        "colab_type": "code",
        "colab": {}
      },
      "source": [
        ""
      ],
      "execution_count": null,
      "outputs": []
    },
    {
      "cell_type": "markdown",
      "metadata": {
        "colab_type": "text",
        "id": "wdZPykMxm9S8"
      },
      "source": [
        "# 6. Modelling"
      ]
    },
    {
      "cell_type": "markdown",
      "metadata": {
        "id": "36jOEMGgWKfY",
        "colab_type": "text"
      },
      "source": [
        "##Collaborative Filtering\n",
        "\n",
        "A technique that can filter out items that a user might like on the basis of reactions by similar users.\n",
        "\n",
        "It works by searching for a group of people with similar taste to this specific users. It is a method used to predict a rating for a user item pair based on the history of ratings given by the user and given to the item."
      ]
    },
    {
      "cell_type": "code",
      "metadata": {
        "colab_type": "code",
        "id": "zH_hD0UbnB4E",
        "colab": {}
      },
      "source": [
        "reader = Reader()\n",
        "train = Dataset.load_from_df(train[['userId', 'movieId', 'rating']], reader)"
      ],
      "execution_count": null,
      "outputs": []
    },
    {
      "cell_type": "markdown",
      "metadata": {
        "id": "VyuYO6D9WhqM",
        "colab_type": "text"
      },
      "source": [
        "###SVD\n",
        "\n",
        "The Singular Value Decomposition (SVD), a method from linear algebra that has been generally used as a dimensionality reduction technique in machine learning. SVD is a matrix factorisation technique, which reduces the number of features of a dataset by reducing the space dimension from N-dimension to K-dimension (where K < N)"
      ]
    },
    {
      "cell_type": "code",
      "metadata": {
        "id": "GKOcx1FDWeAC",
        "colab_type": "code",
        "colab": {}
      },
      "source": [
        "svd = SVD()\n",
        "cross_validate(svd, train, measures=['RMSE', 'MAE'])"
      ],
      "execution_count": null,
      "outputs": []
    },
    {
      "cell_type": "markdown",
      "metadata": {
        "id": "R2PfH1i3W7vC",
        "colab_type": "text"
      },
      "source": [
        "Now we train our dataset and arrive at a prediction."
      ]
    },
    {
      "cell_type": "code",
      "metadata": {
        "id": "Ft8PtGf8WeDT",
        "colab_type": "code",
        "colab": {}
      },
      "source": [
        "data_train = train.build_full_trainset()\n",
        "svd.fit(data_train)"
      ],
      "execution_count": null,
      "outputs": []
    },
    {
      "cell_type": "markdown",
      "metadata": {
        "id": "xNlFoU73XGYH",
        "colab_type": "text"
      },
      "source": [
        "Breakdown of what is put into the model:\n",
        "\n",
        "\n",
        "* a = userId\n",
        "* b = movieId\n",
        "* c = rating\n",
        "* d = expected rating"
      ]
    },
    {
      "cell_type": "code",
      "metadata": {
        "id": "GcyyFT94WeIj",
        "colab_type": "code",
        "colab": {}
      },
      "source": [
        "a = \n",
        "b =\n",
        "c ="
      ],
      "execution_count": null,
      "outputs": []
    },
    {
      "cell_type": "code",
      "metadata": {
        "id": "1cU-RCt_WeGc",
        "colab_type": "code",
        "colab": {}
      },
      "source": [
        "d = svd.predict(a, b, c)\n",
        "print (d)"
      ],
      "execution_count": null,
      "outputs": []
    },
    {
      "cell_type": "markdown",
      "metadata": {
        "id": "cqTYdSCyXV9_",
        "colab_type": "text"
      },
      "source": [
        "For our prediction, we give the model a different users info (userId, movieId and their rating). It will then predict an estimate of what our user may rate this movie."
      ]
    },
    {
      "cell_type": "markdown",
      "metadata": {
        "id": "y95hrDcmXdCn",
        "colab_type": "text"
      },
      "source": [
        "Comparing other recommendation algorithms"
      ]
    },
    {
      "cell_type": "code",
      "metadata": {
        "id": "2WYlTMn2XTZD",
        "colab_type": "code",
        "colab": {}
      },
      "source": [
        "norm = NormalPredictor()\n",
        "cross_validate(norm, train, measures=['RMSE', 'MAE'])\n",
        "data_train = train.build_full_trainset()\n",
        "norm.fit(data_train)\n",
        "d = norm.predict(a, b, c)\n",
        "print ('Normal predictor', d)\n",
        "\n",
        "svd2 = SVDpp()\n",
        "cross_validate(svd2, train, measures=['RMSE', 'MAE'])\n",
        "data_train = train.build_full_trainset()\n",
        "svd2.fit(data_train)\n",
        "d = svd2.predict(a, b, c)\n",
        "print ('SVD++', d)\n",
        "\n",
        "nmf = NMF()\n",
        "cross_validate(nmf, train, measures=['RMSE', 'MAE'])\n",
        "data_train = train.build_full_trainset()\n",
        "nmf.fit(data_train)\n",
        "d = nmf.predict(a, b, c)\n",
        "print ('Non-negative Matrix Factorization', d)"
      ],
      "execution_count": null,
      "outputs": []
    },
    {
      "cell_type": "markdown",
      "metadata": {
        "id": "cxE8pByAXxe4",
        "colab_type": "text"
      },
      "source": [
        "##Content Based Filtering\n",
        "\n",
        "A Content based filter uses attributes to recommend similar content.\n",
        "\n",
        "In a content-based recommender system, keywords are used to describe the items and a user profile is built to indicate the type of item this user likes. In other words, these algorithms try to recommend items that are similar to those that a user liked in the past."
      ]
    },
    {
      "cell_type": "code",
      "metadata": {
        "id": "PKnhXRqzmRJs",
        "colab_type": "code",
        "colab": {
          "resources": {
            "http://localhost:8080/nbextensions/google.colab/files.js": {
              "data": "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",
              "ok": true,
              "headers": [
                [
                  "content-type",
                  "application/javascript"
                ]
              ],
              "status": 200,
              "status_text": ""
            }
          },
          "base_uri": "https://localhost:8080/",
          "height": 106
        },
        "outputId": "894dded7-81fc-43d9-8af5-e92bcaf94042"
      },
      "source": [
        "from google.colab import files\n",
        "uploaded = files.upload()"
      ],
      "execution_count": 3,
      "outputs": [
        {
          "output_type": "display_data",
          "data": {
            "text/html": [
              "\n",
              "     <input type=\"file\" id=\"files-5d8874a2-1edc-4d0a-8c73-0bf6ade8b11c\" name=\"files[]\" multiple disabled\n",
              "        style=\"border:none\" />\n",
              "     <output id=\"result-5d8874a2-1edc-4d0a-8c73-0bf6ade8b11c\">\n",
              "      Upload widget is only available when the cell has been executed in the\n",
              "      current browser session. Please rerun this cell to enable.\n",
              "      </output>\n",
              "      <script src=\"/nbextensions/google.colab/files.js\"></script> "
            ],
            "text/plain": [
              "<IPython.core.display.HTML object>"
            ]
          },
          "metadata": {
            "tags": []
          }
        },
        {
          "output_type": "stream",
          "text": [
            "Saving imdb_data.csv to imdb_data (3).csv\n",
            "Saving movies.csv to movies (2).csv\n"
          ],
          "name": "stdout"
        }
      ]
    },
    {
      "cell_type": "code",
      "metadata": {
        "id": "ZU06HQ2LYiXR",
        "colab_type": "code",
        "colab": {
          "base_uri": "https://localhost:8080/",
          "height": 202
        },
        "outputId": "c9c9bc88-532f-4abc-c7d9-02ea4f9283cb"
      },
      "source": [
        "#In order to best recommend a movie, we need to look at the list of movies we have. \n",
        "movies.head()"
      ],
      "execution_count": 6,
      "outputs": [
        {
          "output_type": "execute_result",
          "data": {
            "text/html": [
              "<div>\n",
              "<style scoped>\n",
              "    .dataframe tbody tr th:only-of-type {\n",
              "        vertical-align: middle;\n",
              "    }\n",
              "\n",
              "    .dataframe tbody tr th {\n",
              "        vertical-align: top;\n",
              "    }\n",
              "\n",
              "    .dataframe thead th {\n",
              "        text-align: right;\n",
              "    }\n",
              "</style>\n",
              "<table border=\"1\" class=\"dataframe\">\n",
              "  <thead>\n",
              "    <tr style=\"text-align: right;\">\n",
              "      <th></th>\n",
              "      <th>movieId</th>\n",
              "      <th>title</th>\n",
              "      <th>genres</th>\n",
              "    </tr>\n",
              "  </thead>\n",
              "  <tbody>\n",
              "    <tr>\n",
              "      <th>0</th>\n",
              "      <td>1</td>\n",
              "      <td>Toy Story (1995)</td>\n",
              "      <td>Adventure|Animation|Children|Comedy|Fantasy</td>\n",
              "    </tr>\n",
              "    <tr>\n",
              "      <th>1</th>\n",
              "      <td>2</td>\n",
              "      <td>Jumanji (1995)</td>\n",
              "      <td>Adventure|Children|Fantasy</td>\n",
              "    </tr>\n",
              "    <tr>\n",
              "      <th>2</th>\n",
              "      <td>3</td>\n",
              "      <td>Grumpier Old Men (1995)</td>\n",
              "      <td>Comedy|Romance</td>\n",
              "    </tr>\n",
              "    <tr>\n",
              "      <th>3</th>\n",
              "      <td>4</td>\n",
              "      <td>Waiting to Exhale (1995)</td>\n",
              "      <td>Comedy|Drama|Romance</td>\n",
              "    </tr>\n",
              "    <tr>\n",
              "      <th>4</th>\n",
              "      <td>5</td>\n",
              "      <td>Father of the Bride Part II (1995)</td>\n",
              "      <td>Comedy</td>\n",
              "    </tr>\n",
              "  </tbody>\n",
              "</table>\n",
              "</div>"
            ],
            "text/plain": [
              "   movieId  ...                                       genres\n",
              "0        1  ...  Adventure|Animation|Children|Comedy|Fantasy\n",
              "1        2  ...                   Adventure|Children|Fantasy\n",
              "2        3  ...                               Comedy|Romance\n",
              "3        4  ...                         Comedy|Drama|Romance\n",
              "4        5  ...                                       Comedy\n",
              "\n",
              "[5 rows x 3 columns]"
            ]
          },
          "metadata": {
            "tags": []
          },
          "execution_count": 6
        }
      ]
    },
    {
      "cell_type": "code",
      "metadata": {
        "id": "bTcRDthBoZTx",
        "colab_type": "code",
        "colab": {}
      },
      "source": [
        "movies = pd.read_csv('movies.csv')\n",
        "imdb = pd.read_csv('imdb_data.csv')"
      ],
      "execution_count": 5,
      "outputs": []
    },
    {
      "cell_type": "markdown",
      "metadata": {
        "id": "D7p_KhNCZX-A",
        "colab_type": "text"
      },
      "source": [
        "Other features that could help or influence what a user may like include the cast, director or keywords.\n",
        "\n",
        "This data can all be found in the imdb dataset."
      ]
    },
    {
      "cell_type": "code",
      "metadata": {
        "id": "fH9NFm00Yieb",
        "colab_type": "code",
        "colab": {
          "base_uri": "https://localhost:8080/",
          "height": 202
        },
        "outputId": "70e6b86c-9477-45b2-bac0-570c506b176e"
      },
      "source": [
        "imdb.head()"
      ],
      "execution_count": 7,
      "outputs": [
        {
          "output_type": "execute_result",
          "data": {
            "text/html": [
              "<div>\n",
              "<style scoped>\n",
              "    .dataframe tbody tr th:only-of-type {\n",
              "        vertical-align: middle;\n",
              "    }\n",
              "\n",
              "    .dataframe tbody tr th {\n",
              "        vertical-align: top;\n",
              "    }\n",
              "\n",
              "    .dataframe thead th {\n",
              "        text-align: right;\n",
              "    }\n",
              "</style>\n",
              "<table border=\"1\" class=\"dataframe\">\n",
              "  <thead>\n",
              "    <tr style=\"text-align: right;\">\n",
              "      <th></th>\n",
              "      <th>movieId</th>\n",
              "      <th>title_cast</th>\n",
              "      <th>director</th>\n",
              "      <th>runtime</th>\n",
              "      <th>budget</th>\n",
              "      <th>plot_keywords</th>\n",
              "    </tr>\n",
              "  </thead>\n",
              "  <tbody>\n",
              "    <tr>\n",
              "      <th>0</th>\n",
              "      <td>1</td>\n",
              "      <td>Tom Hanks|Tim Allen|Don Rickles|Jim Varney|Wal...</td>\n",
              "      <td>John Lasseter</td>\n",
              "      <td>81.0</td>\n",
              "      <td>$30,000,000</td>\n",
              "      <td>toy|rivalry|cowboy|cgi animation</td>\n",
              "    </tr>\n",
              "    <tr>\n",
              "      <th>1</th>\n",
              "      <td>2</td>\n",
              "      <td>Robin Williams|Jonathan Hyde|Kirsten Dunst|Bra...</td>\n",
              "      <td>Jonathan Hensleigh</td>\n",
              "      <td>104.0</td>\n",
              "      <td>$65,000,000</td>\n",
              "      <td>board game|adventurer|fight|game</td>\n",
              "    </tr>\n",
              "    <tr>\n",
              "      <th>2</th>\n",
              "      <td>3</td>\n",
              "      <td>Walter Matthau|Jack Lemmon|Sophia Loren|Ann-Ma...</td>\n",
              "      <td>Mark Steven Johnson</td>\n",
              "      <td>101.0</td>\n",
              "      <td>$25,000,000</td>\n",
              "      <td>boat|lake|neighbor|rivalry</td>\n",
              "    </tr>\n",
              "    <tr>\n",
              "      <th>3</th>\n",
              "      <td>4</td>\n",
              "      <td>Whitney Houston|Angela Bassett|Loretta Devine|...</td>\n",
              "      <td>Terry McMillan</td>\n",
              "      <td>124.0</td>\n",
              "      <td>$16,000,000</td>\n",
              "      <td>black american|husband wife relationship|betra...</td>\n",
              "    </tr>\n",
              "    <tr>\n",
              "      <th>4</th>\n",
              "      <td>5</td>\n",
              "      <td>Steve Martin|Diane Keaton|Martin Short|Kimberl...</td>\n",
              "      <td>Albert Hackett</td>\n",
              "      <td>106.0</td>\n",
              "      <td>$30,000,000</td>\n",
              "      <td>fatherhood|doberman|dog|mansion</td>\n",
              "    </tr>\n",
              "  </tbody>\n",
              "</table>\n",
              "</div>"
            ],
            "text/plain": [
              "   movieId  ...                                      plot_keywords\n",
              "0        1  ...                   toy|rivalry|cowboy|cgi animation\n",
              "1        2  ...                   board game|adventurer|fight|game\n",
              "2        3  ...                         boat|lake|neighbor|rivalry\n",
              "3        4  ...  black american|husband wife relationship|betra...\n",
              "4        5  ...                    fatherhood|doberman|dog|mansion\n",
              "\n",
              "[5 rows x 6 columns]"
            ]
          },
          "metadata": {
            "tags": []
          },
          "execution_count": 7
        }
      ]
    },
    {
      "cell_type": "markdown",
      "metadata": {
        "id": "pBl6l8H7aDX_",
        "colab_type": "text"
      },
      "source": [
        "###Combine relevant datasets\n",
        "\n",
        "The movie database has movie titles and genres and the imdb database has the cast, directors and keywords.\n",
        "We make it easier to view all of this information by combining them into one dataset.  "
      ]
    },
    {
      "cell_type": "code",
      "metadata": {
        "id": "upMUaDoTYiao",
        "colab_type": "code",
        "colab": {
          "base_uri": "https://localhost:8080/",
          "height": 202
        },
        "outputId": "28576c5c-1d3c-4408-896b-60541efef0e5"
      },
      "source": [
        "alls = pd.merge(movies, imdb)\n",
        "alls.head()"
      ],
      "execution_count": 8,
      "outputs": [
        {
          "output_type": "execute_result",
          "data": {
            "text/html": [
              "<div>\n",
              "<style scoped>\n",
              "    .dataframe tbody tr th:only-of-type {\n",
              "        vertical-align: middle;\n",
              "    }\n",
              "\n",
              "    .dataframe tbody tr th {\n",
              "        vertical-align: top;\n",
              "    }\n",
              "\n",
              "    .dataframe thead th {\n",
              "        text-align: right;\n",
              "    }\n",
              "</style>\n",
              "<table border=\"1\" class=\"dataframe\">\n",
              "  <thead>\n",
              "    <tr style=\"text-align: right;\">\n",
              "      <th></th>\n",
              "      <th>movieId</th>\n",
              "      <th>title</th>\n",
              "      <th>genres</th>\n",
              "      <th>title_cast</th>\n",
              "      <th>director</th>\n",
              "      <th>runtime</th>\n",
              "      <th>budget</th>\n",
              "      <th>plot_keywords</th>\n",
              "    </tr>\n",
              "  </thead>\n",
              "  <tbody>\n",
              "    <tr>\n",
              "      <th>0</th>\n",
              "      <td>1</td>\n",
              "      <td>Toy Story (1995)</td>\n",
              "      <td>Adventure|Animation|Children|Comedy|Fantasy</td>\n",
              "      <td>Tom Hanks|Tim Allen|Don Rickles|Jim Varney|Wal...</td>\n",
              "      <td>John Lasseter</td>\n",
              "      <td>81.0</td>\n",
              "      <td>$30,000,000</td>\n",
              "      <td>toy|rivalry|cowboy|cgi animation</td>\n",
              "    </tr>\n",
              "    <tr>\n",
              "      <th>1</th>\n",
              "      <td>2</td>\n",
              "      <td>Jumanji (1995)</td>\n",
              "      <td>Adventure|Children|Fantasy</td>\n",
              "      <td>Robin Williams|Jonathan Hyde|Kirsten Dunst|Bra...</td>\n",
              "      <td>Jonathan Hensleigh</td>\n",
              "      <td>104.0</td>\n",
              "      <td>$65,000,000</td>\n",
              "      <td>board game|adventurer|fight|game</td>\n",
              "    </tr>\n",
              "    <tr>\n",
              "      <th>2</th>\n",
              "      <td>3</td>\n",
              "      <td>Grumpier Old Men (1995)</td>\n",
              "      <td>Comedy|Romance</td>\n",
              "      <td>Walter Matthau|Jack Lemmon|Sophia Loren|Ann-Ma...</td>\n",
              "      <td>Mark Steven Johnson</td>\n",
              "      <td>101.0</td>\n",
              "      <td>$25,000,000</td>\n",
              "      <td>boat|lake|neighbor|rivalry</td>\n",
              "    </tr>\n",
              "    <tr>\n",
              "      <th>3</th>\n",
              "      <td>4</td>\n",
              "      <td>Waiting to Exhale (1995)</td>\n",
              "      <td>Comedy|Drama|Romance</td>\n",
              "      <td>Whitney Houston|Angela Bassett|Loretta Devine|...</td>\n",
              "      <td>Terry McMillan</td>\n",
              "      <td>124.0</td>\n",
              "      <td>$16,000,000</td>\n",
              "      <td>black american|husband wife relationship|betra...</td>\n",
              "    </tr>\n",
              "    <tr>\n",
              "      <th>4</th>\n",
              "      <td>5</td>\n",
              "      <td>Father of the Bride Part II (1995)</td>\n",
              "      <td>Comedy</td>\n",
              "      <td>Steve Martin|Diane Keaton|Martin Short|Kimberl...</td>\n",
              "      <td>Albert Hackett</td>\n",
              "      <td>106.0</td>\n",
              "      <td>$30,000,000</td>\n",
              "      <td>fatherhood|doberman|dog|mansion</td>\n",
              "    </tr>\n",
              "  </tbody>\n",
              "</table>\n",
              "</div>"
            ],
            "text/plain": [
              "   movieId  ...                                      plot_keywords\n",
              "0        1  ...                   toy|rivalry|cowboy|cgi animation\n",
              "1        2  ...                   board game|adventurer|fight|game\n",
              "2        3  ...                         boat|lake|neighbor|rivalry\n",
              "3        4  ...  black american|husband wife relationship|betra...\n",
              "4        5  ...                    fatherhood|doberman|dog|mansion\n",
              "\n",
              "[5 rows x 8 columns]"
            ]
          },
          "metadata": {
            "tags": []
          },
          "execution_count": 8
        }
      ]
    },
    {
      "cell_type": "markdown",
      "metadata": {
        "id": "oeYavmHicGZd",
        "colab_type": "text"
      },
      "source": [
        "Check for null values and replace them."
      ]
    },
    {
      "cell_type": "code",
      "metadata": {
        "id": "oY3HvyDeYiQd",
        "colab_type": "code",
        "colab": {
          "base_uri": "https://localhost:8080/",
          "height": 173
        },
        "outputId": "0ebaeb3a-bef7-45e1-8291-d5d81e1cd1d9"
      },
      "source": [
        "alls.isna().sum()"
      ],
      "execution_count": 9,
      "outputs": [
        {
          "output_type": "execute_result",
          "data": {
            "text/plain": [
              "movieId              0\n",
              "title                0\n",
              "genres               0\n",
              "title_cast        9665\n",
              "director          9519\n",
              "runtime          11345\n",
              "budget           17583\n",
              "plot_keywords    10482\n",
              "dtype: int64"
            ]
          },
          "metadata": {
            "tags": []
          },
          "execution_count": 9
        }
      ]
    },
    {
      "cell_type": "code",
      "metadata": {
        "id": "0DEArcXqcR8X",
        "colab_type": "code",
        "colab": {
          "base_uri": "https://localhost:8080/",
          "height": 173
        },
        "outputId": "2efe472d-3773-4455-e08c-700bbe11c9da"
      },
      "source": [
        "alls['title_cast'] = alls['title_cast'].fillna('')\n",
        "alls['director'] = alls['director'].fillna('')\n",
        "alls['plot_keywords'] = alls['plot_keywords'].fillna('')\n",
        "alls.isna().sum()"
      ],
      "execution_count": 10,
      "outputs": [
        {
          "output_type": "execute_result",
          "data": {
            "text/plain": [
              "movieId              0\n",
              "title                0\n",
              "genres               0\n",
              "title_cast           0\n",
              "director             0\n",
              "runtime          11345\n",
              "budget           17583\n",
              "plot_keywords        0\n",
              "dtype: int64"
            ]
          },
          "metadata": {
            "tags": []
          },
          "execution_count": 10
        }
      ]
    },
    {
      "cell_type": "code",
      "metadata": {
        "id": "zCJS6-K0cR__",
        "colab_type": "code",
        "colab": {
          "base_uri": "https://localhost:8080/",
          "height": 202
        },
        "outputId": "1d0851ea-8cd2-40dd-e097-fec4913ef537"
      },
      "source": [
        "alls.head()"
      ],
      "execution_count": 11,
      "outputs": [
        {
          "output_type": "execute_result",
          "data": {
            "text/html": [
              "<div>\n",
              "<style scoped>\n",
              "    .dataframe tbody tr th:only-of-type {\n",
              "        vertical-align: middle;\n",
              "    }\n",
              "\n",
              "    .dataframe tbody tr th {\n",
              "        vertical-align: top;\n",
              "    }\n",
              "\n",
              "    .dataframe thead th {\n",
              "        text-align: right;\n",
              "    }\n",
              "</style>\n",
              "<table border=\"1\" class=\"dataframe\">\n",
              "  <thead>\n",
              "    <tr style=\"text-align: right;\">\n",
              "      <th></th>\n",
              "      <th>movieId</th>\n",
              "      <th>title</th>\n",
              "      <th>genres</th>\n",
              "      <th>title_cast</th>\n",
              "      <th>director</th>\n",
              "      <th>runtime</th>\n",
              "      <th>budget</th>\n",
              "      <th>plot_keywords</th>\n",
              "    </tr>\n",
              "  </thead>\n",
              "  <tbody>\n",
              "    <tr>\n",
              "      <th>0</th>\n",
              "      <td>1</td>\n",
              "      <td>Toy Story (1995)</td>\n",
              "      <td>Adventure|Animation|Children|Comedy|Fantasy</td>\n",
              "      <td>Tom Hanks|Tim Allen|Don Rickles|Jim Varney|Wal...</td>\n",
              "      <td>John Lasseter</td>\n",
              "      <td>81.0</td>\n",
              "      <td>$30,000,000</td>\n",
              "      <td>toy|rivalry|cowboy|cgi animation</td>\n",
              "    </tr>\n",
              "    <tr>\n",
              "      <th>1</th>\n",
              "      <td>2</td>\n",
              "      <td>Jumanji (1995)</td>\n",
              "      <td>Adventure|Children|Fantasy</td>\n",
              "      <td>Robin Williams|Jonathan Hyde|Kirsten Dunst|Bra...</td>\n",
              "      <td>Jonathan Hensleigh</td>\n",
              "      <td>104.0</td>\n",
              "      <td>$65,000,000</td>\n",
              "      <td>board game|adventurer|fight|game</td>\n",
              "    </tr>\n",
              "    <tr>\n",
              "      <th>2</th>\n",
              "      <td>3</td>\n",
              "      <td>Grumpier Old Men (1995)</td>\n",
              "      <td>Comedy|Romance</td>\n",
              "      <td>Walter Matthau|Jack Lemmon|Sophia Loren|Ann-Ma...</td>\n",
              "      <td>Mark Steven Johnson</td>\n",
              "      <td>101.0</td>\n",
              "      <td>$25,000,000</td>\n",
              "      <td>boat|lake|neighbor|rivalry</td>\n",
              "    </tr>\n",
              "    <tr>\n",
              "      <th>3</th>\n",
              "      <td>4</td>\n",
              "      <td>Waiting to Exhale (1995)</td>\n",
              "      <td>Comedy|Drama|Romance</td>\n",
              "      <td>Whitney Houston|Angela Bassett|Loretta Devine|...</td>\n",
              "      <td>Terry McMillan</td>\n",
              "      <td>124.0</td>\n",
              "      <td>$16,000,000</td>\n",
              "      <td>black american|husband wife relationship|betra...</td>\n",
              "    </tr>\n",
              "    <tr>\n",
              "      <th>4</th>\n",
              "      <td>5</td>\n",
              "      <td>Father of the Bride Part II (1995)</td>\n",
              "      <td>Comedy</td>\n",
              "      <td>Steve Martin|Diane Keaton|Martin Short|Kimberl...</td>\n",
              "      <td>Albert Hackett</td>\n",
              "      <td>106.0</td>\n",
              "      <td>$30,000,000</td>\n",
              "      <td>fatherhood|doberman|dog|mansion</td>\n",
              "    </tr>\n",
              "  </tbody>\n",
              "</table>\n",
              "</div>"
            ],
            "text/plain": [
              "   movieId  ...                                      plot_keywords\n",
              "0        1  ...                   toy|rivalry|cowboy|cgi animation\n",
              "1        2  ...                   board game|adventurer|fight|game\n",
              "2        3  ...                         boat|lake|neighbor|rivalry\n",
              "3        4  ...  black american|husband wife relationship|betra...\n",
              "4        5  ...                    fatherhood|doberman|dog|mansion\n",
              "\n",
              "[5 rows x 8 columns]"
            ]
          },
          "metadata": {
            "tags": []
          },
          "execution_count": 11
        }
      ]
    },
    {
      "cell_type": "markdown",
      "metadata": {
        "id": "XQcOnowBc5rn",
        "colab_type": "text"
      },
      "source": [
        "###Drop columns\n",
        "\n",
        "Runtime and budget do not really influence a user's choice in movie preferences so we drop it."
      ]
    },
    {
      "cell_type": "code",
      "metadata": {
        "id": "sqh4Av9kcSDx",
        "colab_type": "code",
        "colab": {}
      },
      "source": [
        "alls = alls.drop(['runtime', 'budget'], axis = 1)\n",
        "alls = alls.drop('movieId', axis = 1)"
      ],
      "execution_count": 12,
      "outputs": []
    },
    {
      "cell_type": "code",
      "metadata": {
        "id": "dCLPRycsc4lV",
        "colab_type": "code",
        "colab": {
          "base_uri": "https://localhost:8080/",
          "height": 121
        },
        "outputId": "b44e8782-dac9-4c48-d607-37e40daf1739"
      },
      "source": [
        "alls.isna().sum()"
      ],
      "execution_count": 13,
      "outputs": [
        {
          "output_type": "execute_result",
          "data": {
            "text/plain": [
              "title            0\n",
              "genres           0\n",
              "title_cast       0\n",
              "director         0\n",
              "plot_keywords    0\n",
              "dtype: int64"
            ]
          },
          "metadata": {
            "tags": []
          },
          "execution_count": 13
        }
      ]
    },
    {
      "cell_type": "markdown",
      "metadata": {
        "id": "5am1h_WCdecJ",
        "colab_type": "text"
      },
      "source": [
        "###Removing unneseccary characters\n",
        "\n",
        "We remove any extra symbols that could mess with our recommendation system as well as the years in our title column."
      ]
    },
    {
      "cell_type": "code",
      "metadata": {
        "id": "EOt_KsjPc4pS",
        "colab_type": "code",
        "colab": {}
      },
      "source": [
        "alls['title_cast'] = alls.title_cast.str.split('|')\n",
        "alls['plot_keywords'] = alls.plot_keywords.str.split('|')\n",
        "alls['title'] = alls['title'].str.extract('(.*)\\((\\d{4})\\)', expand=False)\n",
        "alls['genres'] = alls.genres.str.split('|')"
      ],
      "execution_count": 14,
      "outputs": []
    },
    {
      "cell_type": "code",
      "metadata": {
        "id": "w_fmeAIeeLix",
        "colab_type": "code",
        "colab": {
          "base_uri": "https://localhost:8080/",
          "height": 202
        },
        "outputId": "c02da303-7f81-452e-c96f-7122a6894b2d"
      },
      "source": [
        "alls.head()"
      ],
      "execution_count": 15,
      "outputs": [
        {
          "output_type": "execute_result",
          "data": {
            "text/html": [
              "<div>\n",
              "<style scoped>\n",
              "    .dataframe tbody tr th:only-of-type {\n",
              "        vertical-align: middle;\n",
              "    }\n",
              "\n",
              "    .dataframe tbody tr th {\n",
              "        vertical-align: top;\n",
              "    }\n",
              "\n",
              "    .dataframe thead th {\n",
              "        text-align: right;\n",
              "    }\n",
              "</style>\n",
              "<table border=\"1\" class=\"dataframe\">\n",
              "  <thead>\n",
              "    <tr style=\"text-align: right;\">\n",
              "      <th></th>\n",
              "      <th>title</th>\n",
              "      <th>genres</th>\n",
              "      <th>title_cast</th>\n",
              "      <th>director</th>\n",
              "      <th>plot_keywords</th>\n",
              "    </tr>\n",
              "  </thead>\n",
              "  <tbody>\n",
              "    <tr>\n",
              "      <th>0</th>\n",
              "      <td>Toy Story</td>\n",
              "      <td>[Adventure, Animation, Children, Comedy, Fantasy]</td>\n",
              "      <td>[Tom Hanks, Tim Allen, Don Rickles, Jim Varney...</td>\n",
              "      <td>John Lasseter</td>\n",
              "      <td>[toy, rivalry, cowboy, cgi animation]</td>\n",
              "    </tr>\n",
              "    <tr>\n",
              "      <th>1</th>\n",
              "      <td>Jumanji</td>\n",
              "      <td>[Adventure, Children, Fantasy]</td>\n",
              "      <td>[Robin Williams, Jonathan Hyde, Kirsten Dunst,...</td>\n",
              "      <td>Jonathan Hensleigh</td>\n",
              "      <td>[board game, adventurer, fight, game]</td>\n",
              "    </tr>\n",
              "    <tr>\n",
              "      <th>2</th>\n",
              "      <td>Grumpier Old Men</td>\n",
              "      <td>[Comedy, Romance]</td>\n",
              "      <td>[Walter Matthau, Jack Lemmon, Sophia Loren, An...</td>\n",
              "      <td>Mark Steven Johnson</td>\n",
              "      <td>[boat, lake, neighbor, rivalry]</td>\n",
              "    </tr>\n",
              "    <tr>\n",
              "      <th>3</th>\n",
              "      <td>Waiting to Exhale</td>\n",
              "      <td>[Comedy, Drama, Romance]</td>\n",
              "      <td>[Whitney Houston, Angela Bassett, Loretta Devi...</td>\n",
              "      <td>Terry McMillan</td>\n",
              "      <td>[black american, husband wife relationship, be...</td>\n",
              "    </tr>\n",
              "    <tr>\n",
              "      <th>4</th>\n",
              "      <td>Father of the Bride Part II</td>\n",
              "      <td>[Comedy]</td>\n",
              "      <td>[Steve Martin, Diane Keaton, Martin Short, Kim...</td>\n",
              "      <td>Albert Hackett</td>\n",
              "      <td>[fatherhood, doberman, dog, mansion]</td>\n",
              "    </tr>\n",
              "  </tbody>\n",
              "</table>\n",
              "</div>"
            ],
            "text/plain": [
              "                          title  ...                                      plot_keywords\n",
              "0                    Toy Story   ...              [toy, rivalry, cowboy, cgi animation]\n",
              "1                      Jumanji   ...              [board game, adventurer, fight, game]\n",
              "2             Grumpier Old Men   ...                    [boat, lake, neighbor, rivalry]\n",
              "3            Waiting to Exhale   ...  [black american, husband wife relationship, be...\n",
              "4  Father of the Bride Part II   ...               [fatherhood, doberman, dog, mansion]\n",
              "\n",
              "[5 rows x 5 columns]"
            ]
          },
          "metadata": {
            "tags": []
          },
          "execution_count": 15
        }
      ]
    },
    {
      "cell_type": "markdown",
      "metadata": {
        "id": "44yWT1-te8xs",
        "colab_type": "text"
      },
      "source": [
        "####We then convert the data to lowercase and remove any spaces to ensure our system does not confuse names or movies that may start with the same first words.\n",
        "eg 'James Bond' and 'James Carter' may come across as the same character."
      ]
    },
    {
      "cell_type": "code",
      "metadata": {
        "id": "Lsci5dHEeLl1",
        "colab_type": "code",
        "colab": {}
      },
      "source": [
        "def clean(x):\n",
        "    if isinstance(x, list):\n",
        "        return [str.lower(i.replace(\" \", \"\")) for i in x]\n",
        "    else:\n",
        "        \n",
        "        if isinstance(x, str):\n",
        "            return str.lower(x.replace(\" \", \"\"))\n",
        "        else:\n",
        "            return ''"
      ],
      "execution_count": 22,
      "outputs": []
    },
    {
      "cell_type": "code",
      "metadata": {
        "id": "-uEe9De-eLpX",
        "colab_type": "code",
        "colab": {}
      },
      "source": [
        "for items in alls:\n",
        "    alls[items] = alls[items].apply(clean)"
      ],
      "execution_count": 23,
      "outputs": []
    },
    {
      "cell_type": "code",
      "metadata": {
        "id": "KrLZ_xh6c4u5",
        "colab_type": "code",
        "colab": {
          "base_uri": "https://localhost:8080/",
          "height": 202
        },
        "outputId": "990a6d84-9712-4ce0-94a8-26caec7ad1c3"
      },
      "source": [
        "alls.head()"
      ],
      "execution_count": 24,
      "outputs": [
        {
          "output_type": "execute_result",
          "data": {
            "text/html": [
              "<div>\n",
              "<style scoped>\n",
              "    .dataframe tbody tr th:only-of-type {\n",
              "        vertical-align: middle;\n",
              "    }\n",
              "\n",
              "    .dataframe tbody tr th {\n",
              "        vertical-align: top;\n",
              "    }\n",
              "\n",
              "    .dataframe thead th {\n",
              "        text-align: right;\n",
              "    }\n",
              "</style>\n",
              "<table border=\"1\" class=\"dataframe\">\n",
              "  <thead>\n",
              "    <tr style=\"text-align: right;\">\n",
              "      <th></th>\n",
              "      <th>index</th>\n",
              "      <th>title</th>\n",
              "      <th>genres</th>\n",
              "      <th>title_cast</th>\n",
              "      <th>director</th>\n",
              "      <th>plot_keywords</th>\n",
              "      <th>soup</th>\n",
              "    </tr>\n",
              "  </thead>\n",
              "  <tbody>\n",
              "    <tr>\n",
              "      <th>0</th>\n",
              "      <td></td>\n",
              "      <td>toystory</td>\n",
              "      <td>[adventure, animation, children, comedy, fantasy]</td>\n",
              "      <td>[tomhanks, timallen, donrickles, jimvarney, wa...</td>\n",
              "      <td>johnlasseter</td>\n",
              "      <td>[toy, rivalry, cowboy, cgianimation]</td>\n",
              "      <td>adventureanimationchildrencomedyfantasytomhank...</td>\n",
              "    </tr>\n",
              "    <tr>\n",
              "      <th>1</th>\n",
              "      <td></td>\n",
              "      <td>jumanji</td>\n",
              "      <td>[adventure, children, fantasy]</td>\n",
              "      <td>[robinwilliams, jonathanhyde, kirstendunst, br...</td>\n",
              "      <td>jonathanhensleigh</td>\n",
              "      <td>[boardgame, adventurer, fight, game]</td>\n",
              "      <td>adventurechildrenfantasyrobinwilliamsjonathanh...</td>\n",
              "    </tr>\n",
              "    <tr>\n",
              "      <th>2</th>\n",
              "      <td></td>\n",
              "      <td>grumpieroldmen</td>\n",
              "      <td>[comedy, romance]</td>\n",
              "      <td>[waltermatthau, jacklemmon, sophialoren, ann-m...</td>\n",
              "      <td>markstevenjohnson</td>\n",
              "      <td>[boat, lake, neighbor, rivalry]</td>\n",
              "      <td>comedyromancewaltermatthaujacklemmonsophialore...</td>\n",
              "    </tr>\n",
              "    <tr>\n",
              "      <th>3</th>\n",
              "      <td></td>\n",
              "      <td>waitingtoexhale</td>\n",
              "      <td>[comedy, drama, romance]</td>\n",
              "      <td>[whitneyhouston, angelabassett, lorettadevine,...</td>\n",
              "      <td>terrymcmillan</td>\n",
              "      <td>[blackamerican, husbandwiferelationship, betra...</td>\n",
              "      <td>comedydramaromancewhitneyhoustonangelabassettl...</td>\n",
              "    </tr>\n",
              "    <tr>\n",
              "      <th>4</th>\n",
              "      <td></td>\n",
              "      <td>fatherofthebridepartii</td>\n",
              "      <td>[comedy]</td>\n",
              "      <td>[stevemartin, dianekeaton, martinshort, kimber...</td>\n",
              "      <td>alberthackett</td>\n",
              "      <td>[fatherhood, doberman, dog, mansion]</td>\n",
              "      <td>comedystevemartindianekeatonmartinshortkimberl...</td>\n",
              "    </tr>\n",
              "  </tbody>\n",
              "</table>\n",
              "</div>"
            ],
            "text/plain": [
              "  index  ...                                               soup\n",
              "0        ...  adventureanimationchildrencomedyfantasytomhank...\n",
              "1        ...  adventurechildrenfantasyrobinwilliamsjonathanh...\n",
              "2        ...  comedyromancewaltermatthaujacklemmonsophialore...\n",
              "3        ...  comedydramaromancewhitneyhoustonangelabassettl...\n",
              "4        ...  comedystevemartindianekeatonmartinshortkimberl...\n",
              "\n",
              "[5 rows x 7 columns]"
            ]
          },
          "metadata": {
            "tags": []
          },
          "execution_count": 24
        }
      ]
    },
    {
      "cell_type": "markdown",
      "metadata": {
        "id": "NnzUQ1K4gtdc",
        "colab_type": "text"
      },
      "source": [
        "Now that we have clean the relevant data, we create our metadata soup that will be used in vectorizing. "
      ]
    },
    {
      "cell_type": "code",
      "metadata": {
        "id": "ZMxW6WAShC2C",
        "colab_type": "code",
        "colab": {}
      },
      "source": [
        "def soup(x):\n",
        "    return ' '.join(x['genres']) + ' ' + ' '.join(x['title_cast']) + ' ' + x['director'] + ' ' + ' '.join(x['plot_keywords'])\n",
        "alls['soup'] = alls.apply(soup, axis=1)"
      ],
      "execution_count": 25,
      "outputs": []
    },
    {
      "cell_type": "markdown",
      "metadata": {
        "id": "BnhApVushOpd",
        "colab_type": "text"
      },
      "source": [
        "###Reset the index\n",
        "This function generates a new dataframe or series setting the indices in order, starting from 0, making it easier to work with the dataframe/series."
      ]
    },
    {
      "cell_type": "code",
      "metadata": {
        "id": "G2LQra7rhC5u",
        "colab_type": "code",
        "colab": {}
      },
      "source": [
        "alls = alls.reset_index()\n",
        "indices = pd.Series(alls.index, index=alls['title'])"
      ],
      "execution_count": 26,
      "outputs": []
    },
    {
      "cell_type": "markdown",
      "metadata": {
        "id": "9Lo2shYjhyDm",
        "colab_type": "text"
      },
      "source": [
        "### CountVectorizer\n",
        "\n",
        "It provides a simple way to both tokenize a collection od text documents and build a vocabulary of known words.\n",
        "Also enabling the preprocessing of text data prior to generating the vector representation making it a highly flexible feature representation module for text. "
      ]
    },
    {
      "cell_type": "code",
      "metadata": {
        "id": "oXiQTFZahDAF",
        "colab_type": "code",
        "colab": {}
      },
      "source": [
        "count = CountVectorizer(stop_words='english')\n",
        "count_matrix = count.fit_transform(alls['soup'])"
      ],
      "execution_count": 27,
      "outputs": []
    },
    {
      "cell_type": "markdown",
      "metadata": {
        "id": "dIbvEbAzipTe",
        "colab_type": "text"
      },
      "source": [
        "### Cosine Similarity\n",
        "\n",
        "A metric used to determine how similar the data is. It measures similarity between two non-zero vectors of an inner product space that measures the cosine of the angle between them.  "
      ]
    },
    {
      "cell_type": "code",
      "metadata": {
        "id": "lwP5UxprhC9X",
        "colab_type": "code",
        "colab": {}
      },
      "source": [
        "cosine_sim = cosine_similarity(count_matrix, count_matrix)"
      ],
      "execution_count": null,
      "outputs": []
    },
    {
      "cell_type": "markdown",
      "metadata": {
        "id": "UeFoMhx0jZAh",
        "colab_type": "text"
      },
      "source": [
        "The final step before asking a recommendation will be to write a function that considers all our relevant features along with the cosine similarity and return a list of recommended movies. "
      ]
    },
    {
      "cell_type": "code",
      "metadata": {
        "id": "zlL-zM4XjLXa",
        "colab_type": "code",
        "colab": {}
      },
      "source": [
        "def reco(title, cosine_sim = cosine_sim):\n",
        "    \n",
        "    index = indices[title]\n",
        "\n",
        "    sim_scores = list(enumerate(cosine_sim[index]))\n",
        "    sims = sorted(sim_scores, key=lambda x: x[1], reverse=True)\n",
        "    sims = sims[1:11]\n",
        "\n",
        "    movie_indices = [i[0] for i in sims]\n",
        "\n",
        "    # Return the top 10 most similar movies\n",
        "    return alls['title'].iloc[movie_indices]"
      ],
      "execution_count": null,
      "outputs": []
    },
    {
      "cell_type": "markdown",
      "metadata": {
        "id": "s5Pom667kgAS",
        "colab_type": "text"
      },
      "source": [
        "Finally we are now able to suggest a movie and find other similar movies for our user to watch."
      ]
    },
    {
      "cell_type": "code",
      "metadata": {
        "id": "ue6qDumNkBzS",
        "colab_type": "code",
        "colab": {
          "base_uri": "https://localhost:8080/",
          "height": 744
        },
        "outputId": "10797094-c213-4fdf-ba42-13f5b0c9b945"
      },
      "source": [
        "reco('jumanji', cosine_sim)"
      ],
      "execution_count": 21,
      "outputs": [
        {
          "output_type": "error",
          "ename": "KeyError",
          "evalue": "ignored",
          "traceback": [
            "\u001b[0;31m---------------------------------------------------------------------------\u001b[0m",
            "\u001b[0;31mTypeError\u001b[0m                                 Traceback (most recent call last)",
            "\u001b[0;32m/usr/local/lib/python3.6/dist-packages/pandas/core/indexes/base.py\u001b[0m in \u001b[0;36mget_value\u001b[0;34m(self, series, key)\u001b[0m\n\u001b[1;32m   4410\u001b[0m             \u001b[0;32mtry\u001b[0m\u001b[0;34m:\u001b[0m\u001b[0;34m\u001b[0m\u001b[0;34m\u001b[0m\u001b[0m\n\u001b[0;32m-> 4411\u001b[0;31m                 \u001b[0;32mreturn\u001b[0m \u001b[0mlibindex\u001b[0m\u001b[0;34m.\u001b[0m\u001b[0mget_value_at\u001b[0m\u001b[0;34m(\u001b[0m\u001b[0ms\u001b[0m\u001b[0;34m,\u001b[0m \u001b[0mkey\u001b[0m\u001b[0;34m)\u001b[0m\u001b[0;34m\u001b[0m\u001b[0;34m\u001b[0m\u001b[0m\n\u001b[0m\u001b[1;32m   4412\u001b[0m             \u001b[0;32mexcept\u001b[0m \u001b[0mIndexError\u001b[0m\u001b[0;34m:\u001b[0m\u001b[0;34m\u001b[0m\u001b[0;34m\u001b[0m\u001b[0m\n",
            "\u001b[0;32mpandas/_libs/index.pyx\u001b[0m in \u001b[0;36mpandas._libs.index.get_value_at\u001b[0;34m()\u001b[0m\n",
            "\u001b[0;32mpandas/_libs/index.pyx\u001b[0m in \u001b[0;36mpandas._libs.index.get_value_at\u001b[0;34m()\u001b[0m\n",
            "\u001b[0;32mpandas/_libs/util.pxd\u001b[0m in \u001b[0;36mpandas._libs.util.get_value_at\u001b[0;34m()\u001b[0m\n",
            "\u001b[0;32mpandas/_libs/util.pxd\u001b[0m in \u001b[0;36mpandas._libs.util.validate_indexer\u001b[0;34m()\u001b[0m\n",
            "\u001b[0;31mTypeError\u001b[0m: 'str' object cannot be interpreted as an integer",
            "\nDuring handling of the above exception, another exception occurred:\n",
            "\u001b[0;31mKeyError\u001b[0m                                  Traceback (most recent call last)",
            "\u001b[0;32m<ipython-input-21-bbdbb52afca7>\u001b[0m in \u001b[0;36m<module>\u001b[0;34m()\u001b[0m\n\u001b[0;32m----> 1\u001b[0;31m \u001b[0mreco\u001b[0m\u001b[0;34m(\u001b[0m\u001b[0;34m'Jumanji'\u001b[0m\u001b[0;34m,\u001b[0m \u001b[0mcosine_sim\u001b[0m\u001b[0;34m)\u001b[0m\u001b[0;34m\u001b[0m\u001b[0;34m\u001b[0m\u001b[0m\n\u001b[0m",
            "\u001b[0;32m<ipython-input-20-1ef5a0276bd5>\u001b[0m in \u001b[0;36mreco\u001b[0;34m(title, cosine_sim)\u001b[0m\n\u001b[1;32m      1\u001b[0m \u001b[0;32mdef\u001b[0m \u001b[0mreco\u001b[0m\u001b[0;34m(\u001b[0m\u001b[0mtitle\u001b[0m\u001b[0;34m,\u001b[0m \u001b[0mcosine_sim\u001b[0m \u001b[0;34m=\u001b[0m \u001b[0mcosine_sim\u001b[0m\u001b[0;34m)\u001b[0m\u001b[0;34m:\u001b[0m\u001b[0;34m\u001b[0m\u001b[0;34m\u001b[0m\u001b[0m\n\u001b[1;32m      2\u001b[0m \u001b[0;34m\u001b[0m\u001b[0m\n\u001b[0;32m----> 3\u001b[0;31m     \u001b[0mindex\u001b[0m \u001b[0;34m=\u001b[0m \u001b[0mindices\u001b[0m\u001b[0;34m[\u001b[0m\u001b[0mtitle\u001b[0m\u001b[0;34m]\u001b[0m\u001b[0;34m\u001b[0m\u001b[0;34m\u001b[0m\u001b[0m\n\u001b[0m\u001b[1;32m      4\u001b[0m \u001b[0;34m\u001b[0m\u001b[0m\n\u001b[1;32m      5\u001b[0m     \u001b[0msim_scores\u001b[0m \u001b[0;34m=\u001b[0m \u001b[0mlist\u001b[0m\u001b[0;34m(\u001b[0m\u001b[0menumerate\u001b[0m\u001b[0;34m(\u001b[0m\u001b[0mcosine_sim\u001b[0m\u001b[0;34m[\u001b[0m\u001b[0mindex\u001b[0m\u001b[0;34m]\u001b[0m\u001b[0;34m)\u001b[0m\u001b[0;34m)\u001b[0m\u001b[0;34m\u001b[0m\u001b[0;34m\u001b[0m\u001b[0m\n",
            "\u001b[0;32m/usr/local/lib/python3.6/dist-packages/pandas/core/series.py\u001b[0m in \u001b[0;36m__getitem__\u001b[0;34m(self, key)\u001b[0m\n\u001b[1;32m    869\u001b[0m         \u001b[0mkey\u001b[0m \u001b[0;34m=\u001b[0m \u001b[0mcom\u001b[0m\u001b[0;34m.\u001b[0m\u001b[0mapply_if_callable\u001b[0m\u001b[0;34m(\u001b[0m\u001b[0mkey\u001b[0m\u001b[0;34m,\u001b[0m \u001b[0mself\u001b[0m\u001b[0;34m)\u001b[0m\u001b[0;34m\u001b[0m\u001b[0;34m\u001b[0m\u001b[0m\n\u001b[1;32m    870\u001b[0m         \u001b[0;32mtry\u001b[0m\u001b[0;34m:\u001b[0m\u001b[0;34m\u001b[0m\u001b[0;34m\u001b[0m\u001b[0m\n\u001b[0;32m--> 871\u001b[0;31m             \u001b[0mresult\u001b[0m \u001b[0;34m=\u001b[0m \u001b[0mself\u001b[0m\u001b[0;34m.\u001b[0m\u001b[0mindex\u001b[0m\u001b[0;34m.\u001b[0m\u001b[0mget_value\u001b[0m\u001b[0;34m(\u001b[0m\u001b[0mself\u001b[0m\u001b[0;34m,\u001b[0m \u001b[0mkey\u001b[0m\u001b[0;34m)\u001b[0m\u001b[0;34m\u001b[0m\u001b[0;34m\u001b[0m\u001b[0m\n\u001b[0m\u001b[1;32m    872\u001b[0m \u001b[0;34m\u001b[0m\u001b[0m\n\u001b[1;32m    873\u001b[0m             \u001b[0;32mif\u001b[0m \u001b[0;32mnot\u001b[0m \u001b[0mis_scalar\u001b[0m\u001b[0;34m(\u001b[0m\u001b[0mresult\u001b[0m\u001b[0;34m)\u001b[0m\u001b[0;34m:\u001b[0m\u001b[0;34m\u001b[0m\u001b[0;34m\u001b[0m\u001b[0m\n",
            "\u001b[0;32m/usr/local/lib/python3.6/dist-packages/pandas/core/indexes/base.py\u001b[0m in \u001b[0;36mget_value\u001b[0;34m(self, series, key)\u001b[0m\n\u001b[1;32m   4417\u001b[0m                     \u001b[0;32mraise\u001b[0m \u001b[0mInvalidIndexError\u001b[0m\u001b[0;34m(\u001b[0m\u001b[0mkey\u001b[0m\u001b[0;34m)\u001b[0m\u001b[0;34m\u001b[0m\u001b[0;34m\u001b[0m\u001b[0m\n\u001b[1;32m   4418\u001b[0m                 \u001b[0;32melse\u001b[0m\u001b[0;34m:\u001b[0m\u001b[0;34m\u001b[0m\u001b[0;34m\u001b[0m\u001b[0m\n\u001b[0;32m-> 4419\u001b[0;31m                     \u001b[0;32mraise\u001b[0m \u001b[0me1\u001b[0m\u001b[0;34m\u001b[0m\u001b[0;34m\u001b[0m\u001b[0m\n\u001b[0m\u001b[1;32m   4420\u001b[0m             \u001b[0;32mexcept\u001b[0m \u001b[0mException\u001b[0m\u001b[0;34m:\u001b[0m\u001b[0;34m\u001b[0m\u001b[0;34m\u001b[0m\u001b[0m\n\u001b[1;32m   4421\u001b[0m                 \u001b[0;32mraise\u001b[0m \u001b[0me1\u001b[0m\u001b[0;34m\u001b[0m\u001b[0;34m\u001b[0m\u001b[0m\n",
            "\u001b[0;32m/usr/local/lib/python3.6/dist-packages/pandas/core/indexes/base.py\u001b[0m in \u001b[0;36mget_value\u001b[0;34m(self, series, key)\u001b[0m\n\u001b[1;32m   4403\u001b[0m         \u001b[0mk\u001b[0m \u001b[0;34m=\u001b[0m \u001b[0mself\u001b[0m\u001b[0;34m.\u001b[0m\u001b[0m_convert_scalar_indexer\u001b[0m\u001b[0;34m(\u001b[0m\u001b[0mk\u001b[0m\u001b[0;34m,\u001b[0m \u001b[0mkind\u001b[0m\u001b[0;34m=\u001b[0m\u001b[0;34m\"getitem\"\u001b[0m\u001b[0;34m)\u001b[0m\u001b[0;34m\u001b[0m\u001b[0;34m\u001b[0m\u001b[0m\n\u001b[1;32m   4404\u001b[0m         \u001b[0;32mtry\u001b[0m\u001b[0;34m:\u001b[0m\u001b[0;34m\u001b[0m\u001b[0;34m\u001b[0m\u001b[0m\n\u001b[0;32m-> 4405\u001b[0;31m             \u001b[0;32mreturn\u001b[0m \u001b[0mself\u001b[0m\u001b[0;34m.\u001b[0m\u001b[0m_engine\u001b[0m\u001b[0;34m.\u001b[0m\u001b[0mget_value\u001b[0m\u001b[0;34m(\u001b[0m\u001b[0ms\u001b[0m\u001b[0;34m,\u001b[0m \u001b[0mk\u001b[0m\u001b[0;34m,\u001b[0m \u001b[0mtz\u001b[0m\u001b[0;34m=\u001b[0m\u001b[0mgetattr\u001b[0m\u001b[0;34m(\u001b[0m\u001b[0mseries\u001b[0m\u001b[0;34m.\u001b[0m\u001b[0mdtype\u001b[0m\u001b[0;34m,\u001b[0m \u001b[0;34m\"tz\"\u001b[0m\u001b[0;34m,\u001b[0m \u001b[0;32mNone\u001b[0m\u001b[0;34m)\u001b[0m\u001b[0;34m)\u001b[0m\u001b[0;34m\u001b[0m\u001b[0;34m\u001b[0m\u001b[0m\n\u001b[0m\u001b[1;32m   4406\u001b[0m         \u001b[0;32mexcept\u001b[0m \u001b[0mKeyError\u001b[0m \u001b[0;32mas\u001b[0m \u001b[0me1\u001b[0m\u001b[0;34m:\u001b[0m\u001b[0;34m\u001b[0m\u001b[0;34m\u001b[0m\u001b[0m\n\u001b[1;32m   4407\u001b[0m             \u001b[0;32mif\u001b[0m \u001b[0mlen\u001b[0m\u001b[0;34m(\u001b[0m\u001b[0mself\u001b[0m\u001b[0;34m)\u001b[0m \u001b[0;34m>\u001b[0m \u001b[0;36m0\u001b[0m \u001b[0;32mand\u001b[0m \u001b[0;34m(\u001b[0m\u001b[0mself\u001b[0m\u001b[0;34m.\u001b[0m\u001b[0mholds_integer\u001b[0m\u001b[0;34m(\u001b[0m\u001b[0;34m)\u001b[0m \u001b[0;32mor\u001b[0m \u001b[0mself\u001b[0m\u001b[0;34m.\u001b[0m\u001b[0mis_boolean\u001b[0m\u001b[0;34m(\u001b[0m\u001b[0;34m)\u001b[0m\u001b[0;34m)\u001b[0m\u001b[0;34m:\u001b[0m\u001b[0;34m\u001b[0m\u001b[0;34m\u001b[0m\u001b[0m\n",
            "\u001b[0;32mpandas/_libs/index.pyx\u001b[0m in \u001b[0;36mpandas._libs.index.IndexEngine.get_value\u001b[0;34m()\u001b[0m\n",
            "\u001b[0;32mpandas/_libs/index.pyx\u001b[0m in \u001b[0;36mpandas._libs.index.IndexEngine.get_value\u001b[0;34m()\u001b[0m\n",
            "\u001b[0;32mpandas/_libs/index.pyx\u001b[0m in \u001b[0;36mpandas._libs.index.IndexEngine.get_loc\u001b[0;34m()\u001b[0m\n",
            "\u001b[0;32mpandas/_libs/index.pyx\u001b[0m in \u001b[0;36mpandas._libs.index.IndexEngine._get_loc_duplicates\u001b[0;34m()\u001b[0m\n",
            "\u001b[0;32mpandas/_libs/index.pyx\u001b[0m in \u001b[0;36mpandas._libs.index.IndexEngine._maybe_get_bool_indexer\u001b[0;34m()\u001b[0m\n",
            "\u001b[0;31mKeyError\u001b[0m: 'Jumanji'"
          ]
        }
      ]
    },
    {
      "cell_type": "markdown",
      "metadata": {
        "colab_type": "text",
        "id": "1LMdofqynGa1"
      },
      "source": [
        "## 7. Performance Evaluation"
      ]
    },
    {
      "cell_type": "code",
      "metadata": {
        "colab_type": "code",
        "id": "rtkahZdfnJbn",
        "colab": {}
      },
      "source": [
        ""
      ],
      "execution_count": null,
      "outputs": []
    },
    {
      "cell_type": "markdown",
      "metadata": {
        "colab_type": "text",
        "id": "MxZE3w3JnRAY"
      },
      "source": [
        "## 8. Conclusion"
      ]
    },
    {
      "cell_type": "code",
      "metadata": {
        "colab_type": "code",
        "id": "KQ9B_LqpnVPY",
        "colab": {}
      },
      "source": [
        ""
      ],
      "execution_count": null,
      "outputs": []
    },
    {
      "cell_type": "code",
      "metadata": {
        "id": "hfDs7QiAIvAL",
        "colab_type": "code",
        "colab": {}
      },
      "source": [
        ""
      ],
      "execution_count": null,
      "outputs": []
    },
    {
      "cell_type": "markdown",
      "metadata": {
        "id": "tg212rryIvAO",
        "colab_type": "text"
      },
      "source": [
        "## 9. References"
      ]
    },
    {
      "cell_type": "markdown",
      "metadata": {
        "id": "ozHsutcsk7Nf",
        "colab_type": "text"
      },
      "source": [
        "1. Beginner Tutorial: Recommender Systems in Python\n",
        "https://www.datacamp.com/community/tutorials/recommender-systems-python\n",
        "\n",
        "2. Build a Recommendation Engine With Collaborative Filtering\n",
        "https://realpython.com/build-recommendation-engine-collaborative-filtering/\n",
        "\n",
        "3. How to Build Simple Recommender Systems in Python\n",
        "https://medium.com/swlh/how-to-build-simple-recommender-systems-in-python-647e5bcd78bd\n",
        "\n",
        "4. Introduction to Recommendation System. Part 1\n",
        "https://hackernoon.com/introduction-to-recommender-system-part-1-collaborative-filtering-singular-value-decomposition-44c9659c5e75\n",
        "\n",
        "5. Building a Recommender System With Pandas\n",
        "https://medium.com/towards-artificial-intelligence/building-a-recommender-system-with-pandas-1ca0bb03fdce"
      ]
    }
  ]
}