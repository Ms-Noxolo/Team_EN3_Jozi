{
  "nbformat": 4,
  "nbformat_minor": 0,
  "metadata": {
    "colab": {
      "name": "content based.ipynb",
      "provenance": [],
      "collapsed_sections": [],
      "authorship_tag": "ABX9TyODewYlYWn/3rIQufnVHtPI",
      "include_colab_link": true
    },
    "kernelspec": {
      "name": "python3",
      "display_name": "Python 3"
    }
  },
  "cells": [
    {
      "cell_type": "markdown",
      "metadata": {
        "id": "view-in-github",
        "colab_type": "text"
      },
      "source": [
        "<a href=\"https://colab.research.google.com/github/Ms-Noxolo/Team_EN3_Jozi/blob/master/content_based.ipynb\" target=\"_parent\"><img src=\"https://colab.research.google.com/assets/colab-badge.svg\" alt=\"Open In Colab\"/></a>"
      ]
    },
    {
      "cell_type": "markdown",
      "metadata": {
        "id": "QdIeDKw7pFQh",
        "colab_type": "text"
      },
      "source": [
        "#CONTENT BASED FILTERING\n",
        "\n",
        "A CONTENT BASED FILTER USES ATTRIBUTES TO RECOMMEND SIMILAR CONTENT.\n",
        "\n",
        "UNLIKE THE COLLABORATIVE FILTER, THE CONTENT BASED FILTER CAN RECOMMEND A NEW ITEM SO IN THIS CASE IT CAN RECOMMEND A MOVIE FOR THE USER TO WATCH."
      ]
    },
    {
      "cell_type": "markdown",
      "metadata": {
        "id": "_EATaEeDpaHL",
        "colab_type": "text"
      },
      "source": [
        "###IMPORT LIBRARIES"
      ]
    },
    {
      "cell_type": "code",
      "metadata": {
        "id": "Xr3DRR0Yarug",
        "colab_type": "code",
        "colab": {}
      },
      "source": [
        "import pandas as pd\n",
        "import numpy as np\n",
        "import matplotlib.pyplot as plt\n",
        "%matplotlib inline\n",
        "\n",
        "from sklearn.metrics.pairwise import cosine_similarity\n",
        "from sklearn.feature_extraction.text import CountVectorizer"
      ],
      "execution_count": 2,
      "outputs": []
    },
    {
      "cell_type": "markdown",
      "metadata": {
        "id": "7PSwcqzb0hrf",
        "colab_type": "text"
      },
      "source": [
        "In a content-based recommender system, keywords are used to describe the items and a user profile is built to indicate the type of item this user likes. In other words, these algorithms try to recommend items that are similar to those that a user liked in the past."
      ]
    },
    {
      "cell_type": "markdown",
      "metadata": {
        "id": "BgLpMitNpkUW",
        "colab_type": "text"
      },
      "source": [
        "### IMPORT DATASETS"
      ]
    },
    {
      "cell_type": "code",
      "metadata": {
        "id": "1MSWaMYyavcW",
        "colab_type": "code",
        "colab": {
          "resources": {
            "http://localhost:8080/nbextensions/google.colab/files.js": {
              "data": "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",
              "ok": true,
              "headers": [
                [
                  "content-type",
                  "application/javascript"
                ]
              ],
              "status": 200,
              "status_text": ""
            }
          },
          "base_uri": "https://localhost:8080/",
          "height": 106
        },
        "outputId": "9a016c29-8c83-4593-b535-7c9984dced52"
      },
      "source": [
        "from google.colab import files\n",
        "uploaded = files.upload()"
      ],
      "execution_count": 3,
      "outputs": [
        {
          "output_type": "display_data",
          "data": {
            "text/html": [
              "\n",
              "     <input type=\"file\" id=\"files-21cc4fa9-81fd-487d-97de-38aff9795882\" name=\"files[]\" multiple disabled\n",
              "        style=\"border:none\" />\n",
              "     <output id=\"result-21cc4fa9-81fd-487d-97de-38aff9795882\">\n",
              "      Upload widget is only available when the cell has been executed in the\n",
              "      current browser session. Please rerun this cell to enable.\n",
              "      </output>\n",
              "      <script src=\"/nbextensions/google.colab/files.js\"></script> "
            ],
            "text/plain": [
              "<IPython.core.display.HTML object>"
            ]
          },
          "metadata": {
            "tags": []
          }
        },
        {
          "output_type": "stream",
          "text": [
            "Saving imdb_data.csv to imdb_data (1).csv\n",
            "Saving movies.csv to movies (1).csv\n"
          ],
          "name": "stdout"
        }
      ]
    },
    {
      "cell_type": "markdown",
      "metadata": {
        "id": "AGyQFymbqmRt",
        "colab_type": "text"
      },
      "source": [
        "IN ORDER TO BEST RECOMMEND A MOVIE, WE NEED TO LOOK AT THE LIST OF MOVIES WE HAVE."
      ]
    },
    {
      "cell_type": "code",
      "metadata": {
        "id": "PozSBhrbawCY",
        "colab_type": "code",
        "colab": {}
      },
      "source": [
        "mov = pd.read_csv('movies.csv')"
      ],
      "execution_count": 4,
      "outputs": []
    },
    {
      "cell_type": "code",
      "metadata": {
        "id": "qiNWuA0LawFG",
        "colab_type": "code",
        "colab": {
          "base_uri": "https://localhost:8080/",
          "height": 202
        },
        "outputId": "c746c39b-e5d0-4b97-f2bf-1827a3e7761d"
      },
      "source": [
        "mov.head()"
      ],
      "execution_count": 5,
      "outputs": [
        {
          "output_type": "execute_result",
          "data": {
            "text/html": [
              "<div>\n",
              "<style scoped>\n",
              "    .dataframe tbody tr th:only-of-type {\n",
              "        vertical-align: middle;\n",
              "    }\n",
              "\n",
              "    .dataframe tbody tr th {\n",
              "        vertical-align: top;\n",
              "    }\n",
              "\n",
              "    .dataframe thead th {\n",
              "        text-align: right;\n",
              "    }\n",
              "</style>\n",
              "<table border=\"1\" class=\"dataframe\">\n",
              "  <thead>\n",
              "    <tr style=\"text-align: right;\">\n",
              "      <th></th>\n",
              "      <th>movieId</th>\n",
              "      <th>title</th>\n",
              "      <th>genres</th>\n",
              "    </tr>\n",
              "  </thead>\n",
              "  <tbody>\n",
              "    <tr>\n",
              "      <th>0</th>\n",
              "      <td>1</td>\n",
              "      <td>Toy Story (1995)</td>\n",
              "      <td>Adventure|Animation|Children|Comedy|Fantasy</td>\n",
              "    </tr>\n",
              "    <tr>\n",
              "      <th>1</th>\n",
              "      <td>2</td>\n",
              "      <td>Jumanji (1995)</td>\n",
              "      <td>Adventure|Children|Fantasy</td>\n",
              "    </tr>\n",
              "    <tr>\n",
              "      <th>2</th>\n",
              "      <td>3</td>\n",
              "      <td>Grumpier Old Men (1995)</td>\n",
              "      <td>Comedy|Romance</td>\n",
              "    </tr>\n",
              "    <tr>\n",
              "      <th>3</th>\n",
              "      <td>4</td>\n",
              "      <td>Waiting to Exhale (1995)</td>\n",
              "      <td>Comedy|Drama|Romance</td>\n",
              "    </tr>\n",
              "    <tr>\n",
              "      <th>4</th>\n",
              "      <td>5</td>\n",
              "      <td>Father of the Bride Part II (1995)</td>\n",
              "      <td>Comedy</td>\n",
              "    </tr>\n",
              "  </tbody>\n",
              "</table>\n",
              "</div>"
            ],
            "text/plain": [
              "   movieId  ...                                       genres\n",
              "0        1  ...  Adventure|Animation|Children|Comedy|Fantasy\n",
              "1        2  ...                   Adventure|Children|Fantasy\n",
              "2        3  ...                               Comedy|Romance\n",
              "3        4  ...                         Comedy|Drama|Romance\n",
              "4        5  ...                                       Comedy\n",
              "\n",
              "[5 rows x 3 columns]"
            ]
          },
          "metadata": {
            "tags": []
          },
          "execution_count": 5
        }
      ]
    },
    {
      "cell_type": "markdown",
      "metadata": {
        "id": "NxJG2QN4qwUu",
        "colab_type": "text"
      },
      "source": [
        "OTHER FEATURES THAT COULD HELP A USER FIND A MOVIE THEY MAY LIKE COULD INVOLVE THE CAST, DIRECTOR AND KEYWORDS\n",
        "\n",
        "ALL THIS DATA CAN BE FOUND IN THE IMDB DATASET."
      ]
    },
    {
      "cell_type": "code",
      "metadata": {
        "id": "KxslWpCXawLT",
        "colab_type": "code",
        "colab": {}
      },
      "source": [
        "imdb = pd.read_csv('imdb_data.csv')"
      ],
      "execution_count": 6,
      "outputs": []
    },
    {
      "cell_type": "code",
      "metadata": {
        "id": "hrUn0s10awOY",
        "colab_type": "code",
        "colab": {
          "base_uri": "https://localhost:8080/",
          "height": 202
        },
        "outputId": "dc76f42c-2764-4f43-d246-9b542d4d4ab9"
      },
      "source": [
        "imdb.head()"
      ],
      "execution_count": 7,
      "outputs": [
        {
          "output_type": "execute_result",
          "data": {
            "text/html": [
              "<div>\n",
              "<style scoped>\n",
              "    .dataframe tbody tr th:only-of-type {\n",
              "        vertical-align: middle;\n",
              "    }\n",
              "\n",
              "    .dataframe tbody tr th {\n",
              "        vertical-align: top;\n",
              "    }\n",
              "\n",
              "    .dataframe thead th {\n",
              "        text-align: right;\n",
              "    }\n",
              "</style>\n",
              "<table border=\"1\" class=\"dataframe\">\n",
              "  <thead>\n",
              "    <tr style=\"text-align: right;\">\n",
              "      <th></th>\n",
              "      <th>movieId</th>\n",
              "      <th>title_cast</th>\n",
              "      <th>director</th>\n",
              "      <th>runtime</th>\n",
              "      <th>budget</th>\n",
              "      <th>plot_keywords</th>\n",
              "    </tr>\n",
              "  </thead>\n",
              "  <tbody>\n",
              "    <tr>\n",
              "      <th>0</th>\n",
              "      <td>1</td>\n",
              "      <td>Tom Hanks|Tim Allen|Don Rickles|Jim Varney|Wal...</td>\n",
              "      <td>John Lasseter</td>\n",
              "      <td>81.0</td>\n",
              "      <td>$30,000,000</td>\n",
              "      <td>toy|rivalry|cowboy|cgi animation</td>\n",
              "    </tr>\n",
              "    <tr>\n",
              "      <th>1</th>\n",
              "      <td>2</td>\n",
              "      <td>Robin Williams|Jonathan Hyde|Kirsten Dunst|Bra...</td>\n",
              "      <td>Jonathan Hensleigh</td>\n",
              "      <td>104.0</td>\n",
              "      <td>$65,000,000</td>\n",
              "      <td>board game|adventurer|fight|game</td>\n",
              "    </tr>\n",
              "    <tr>\n",
              "      <th>2</th>\n",
              "      <td>3</td>\n",
              "      <td>Walter Matthau|Jack Lemmon|Sophia Loren|Ann-Ma...</td>\n",
              "      <td>Mark Steven Johnson</td>\n",
              "      <td>101.0</td>\n",
              "      <td>$25,000,000</td>\n",
              "      <td>boat|lake|neighbor|rivalry</td>\n",
              "    </tr>\n",
              "    <tr>\n",
              "      <th>3</th>\n",
              "      <td>4</td>\n",
              "      <td>Whitney Houston|Angela Bassett|Loretta Devine|...</td>\n",
              "      <td>Terry McMillan</td>\n",
              "      <td>124.0</td>\n",
              "      <td>$16,000,000</td>\n",
              "      <td>black american|husband wife relationship|betra...</td>\n",
              "    </tr>\n",
              "    <tr>\n",
              "      <th>4</th>\n",
              "      <td>5</td>\n",
              "      <td>Steve Martin|Diane Keaton|Martin Short|Kimberl...</td>\n",
              "      <td>Albert Hackett</td>\n",
              "      <td>106.0</td>\n",
              "      <td>$30,000,000</td>\n",
              "      <td>fatherhood|doberman|dog|mansion</td>\n",
              "    </tr>\n",
              "  </tbody>\n",
              "</table>\n",
              "</div>"
            ],
            "text/plain": [
              "   movieId  ...                                      plot_keywords\n",
              "0        1  ...                   toy|rivalry|cowboy|cgi animation\n",
              "1        2  ...                   board game|adventurer|fight|game\n",
              "2        3  ...                         boat|lake|neighbor|rivalry\n",
              "3        4  ...  black american|husband wife relationship|betra...\n",
              "4        5  ...                    fatherhood|doberman|dog|mansion\n",
              "\n",
              "[5 rows x 6 columns]"
            ]
          },
          "metadata": {
            "tags": []
          },
          "execution_count": 7
        }
      ]
    },
    {
      "cell_type": "markdown",
      "metadata": {
        "id": "CtcmorNSprN1",
        "colab_type": "text"
      },
      "source": [
        "##COMBINE RELEVANT DATASETS\n",
        "\n",
        "THE MOVIE DATABASE HAS MOVIE TITLES AND GENRES AND THE IMDB DATASET HAS OUR CAST, DIRECTORS AND KEYWORDS,\n",
        "\n",
        "WE MAKE IT EASIER TO VIEW ALL THIS INFORMATION BY COMINING THE TWO DATASETS INTO ONE."
      ]
    },
    {
      "cell_type": "code",
      "metadata": {
        "id": "borFtpt9awSm",
        "colab_type": "code",
        "colab": {
          "base_uri": "https://localhost:8080/",
          "height": 202
        },
        "outputId": "48363895-7311-4086-ead9-fd34a675248d"
      },
      "source": [
        "alls = pd.merge(mov, imdb)\n",
        "alls.head()"
      ],
      "execution_count": 8,
      "outputs": [
        {
          "output_type": "execute_result",
          "data": {
            "text/html": [
              "<div>\n",
              "<style scoped>\n",
              "    .dataframe tbody tr th:only-of-type {\n",
              "        vertical-align: middle;\n",
              "    }\n",
              "\n",
              "    .dataframe tbody tr th {\n",
              "        vertical-align: top;\n",
              "    }\n",
              "\n",
              "    .dataframe thead th {\n",
              "        text-align: right;\n",
              "    }\n",
              "</style>\n",
              "<table border=\"1\" class=\"dataframe\">\n",
              "  <thead>\n",
              "    <tr style=\"text-align: right;\">\n",
              "      <th></th>\n",
              "      <th>movieId</th>\n",
              "      <th>title</th>\n",
              "      <th>genres</th>\n",
              "      <th>title_cast</th>\n",
              "      <th>director</th>\n",
              "      <th>runtime</th>\n",
              "      <th>budget</th>\n",
              "      <th>plot_keywords</th>\n",
              "    </tr>\n",
              "  </thead>\n",
              "  <tbody>\n",
              "    <tr>\n",
              "      <th>0</th>\n",
              "      <td>1</td>\n",
              "      <td>Toy Story (1995)</td>\n",
              "      <td>Adventure|Animation|Children|Comedy|Fantasy</td>\n",
              "      <td>Tom Hanks|Tim Allen|Don Rickles|Jim Varney|Wal...</td>\n",
              "      <td>John Lasseter</td>\n",
              "      <td>81.0</td>\n",
              "      <td>$30,000,000</td>\n",
              "      <td>toy|rivalry|cowboy|cgi animation</td>\n",
              "    </tr>\n",
              "    <tr>\n",
              "      <th>1</th>\n",
              "      <td>2</td>\n",
              "      <td>Jumanji (1995)</td>\n",
              "      <td>Adventure|Children|Fantasy</td>\n",
              "      <td>Robin Williams|Jonathan Hyde|Kirsten Dunst|Bra...</td>\n",
              "      <td>Jonathan Hensleigh</td>\n",
              "      <td>104.0</td>\n",
              "      <td>$65,000,000</td>\n",
              "      <td>board game|adventurer|fight|game</td>\n",
              "    </tr>\n",
              "    <tr>\n",
              "      <th>2</th>\n",
              "      <td>3</td>\n",
              "      <td>Grumpier Old Men (1995)</td>\n",
              "      <td>Comedy|Romance</td>\n",
              "      <td>Walter Matthau|Jack Lemmon|Sophia Loren|Ann-Ma...</td>\n",
              "      <td>Mark Steven Johnson</td>\n",
              "      <td>101.0</td>\n",
              "      <td>$25,000,000</td>\n",
              "      <td>boat|lake|neighbor|rivalry</td>\n",
              "    </tr>\n",
              "    <tr>\n",
              "      <th>3</th>\n",
              "      <td>4</td>\n",
              "      <td>Waiting to Exhale (1995)</td>\n",
              "      <td>Comedy|Drama|Romance</td>\n",
              "      <td>Whitney Houston|Angela Bassett|Loretta Devine|...</td>\n",
              "      <td>Terry McMillan</td>\n",
              "      <td>124.0</td>\n",
              "      <td>$16,000,000</td>\n",
              "      <td>black american|husband wife relationship|betra...</td>\n",
              "    </tr>\n",
              "    <tr>\n",
              "      <th>4</th>\n",
              "      <td>5</td>\n",
              "      <td>Father of the Bride Part II (1995)</td>\n",
              "      <td>Comedy</td>\n",
              "      <td>Steve Martin|Diane Keaton|Martin Short|Kimberl...</td>\n",
              "      <td>Albert Hackett</td>\n",
              "      <td>106.0</td>\n",
              "      <td>$30,000,000</td>\n",
              "      <td>fatherhood|doberman|dog|mansion</td>\n",
              "    </tr>\n",
              "  </tbody>\n",
              "</table>\n",
              "</div>"
            ],
            "text/plain": [
              "   movieId  ...                                      plot_keywords\n",
              "0        1  ...                   toy|rivalry|cowboy|cgi animation\n",
              "1        2  ...                   board game|adventurer|fight|game\n",
              "2        3  ...                         boat|lake|neighbor|rivalry\n",
              "3        4  ...  black american|husband wife relationship|betra...\n",
              "4        5  ...                    fatherhood|doberman|dog|mansion\n",
              "\n",
              "[5 rows x 8 columns]"
            ]
          },
          "metadata": {
            "tags": []
          },
          "execution_count": 8
        }
      ]
    },
    {
      "cell_type": "markdown",
      "metadata": {
        "id": "JuB9o3idp19l",
        "colab_type": "text"
      },
      "source": [
        "###CLEAN DATA\n",
        "THIS INCLUDES CHECKING FOR NULL VALUES, REMOVING UNNESECCARY CHARACTERS, FILLING BLANK SPACES, ETC"
      ]
    },
    {
      "cell_type": "markdown",
      "metadata": {
        "id": "v4QKGgDYpxNH",
        "colab_type": "text"
      },
      "source": [
        "CHECK FOR NAN VALUES"
      ]
    },
    {
      "cell_type": "code",
      "metadata": {
        "id": "MQuNXbYSbPoi",
        "colab_type": "code",
        "colab": {
          "base_uri": "https://localhost:8080/",
          "height": 173
        },
        "outputId": "7753dee8-63cb-4526-9abb-12a2609f1489"
      },
      "source": [
        "alls.isna().sum()"
      ],
      "execution_count": 9,
      "outputs": [
        {
          "output_type": "execute_result",
          "data": {
            "text/plain": [
              "movieId              0\n",
              "title                0\n",
              "genres               0\n",
              "title_cast        9665\n",
              "director          9519\n",
              "runtime          11345\n",
              "budget           17583\n",
              "plot_keywords    10482\n",
              "dtype: int64"
            ]
          },
          "metadata": {
            "tags": []
          },
          "execution_count": 9
        }
      ]
    },
    {
      "cell_type": "code",
      "metadata": {
        "id": "uyVh7os8bPuD",
        "colab_type": "code",
        "colab": {
          "base_uri": "https://localhost:8080/",
          "height": 173
        },
        "outputId": "70e84cf8-d94f-42c8-cabf-2f9d96e0ee7e"
      },
      "source": [
        "alls['genres'] = alls.genres.str.split('|')\n",
        "alls['title_cast'] = alls['title_cast'].fillna('')\n",
        "alls['director'] = alls['director'].fillna('')\n",
        "alls['plot_keywords'] = alls['plot_keywords'].fillna('')\n",
        "alls.isna().sum()"
      ],
      "execution_count": 10,
      "outputs": [
        {
          "output_type": "execute_result",
          "data": {
            "text/plain": [
              "movieId              0\n",
              "title                0\n",
              "genres               0\n",
              "title_cast           0\n",
              "director             0\n",
              "runtime          11345\n",
              "budget           17583\n",
              "plot_keywords        0\n",
              "dtype: int64"
            ]
          },
          "metadata": {
            "tags": []
          },
          "execution_count": 10
        }
      ]
    },
    {
      "cell_type": "code",
      "metadata": {
        "id": "_upxTLfDbPyB",
        "colab_type": "code",
        "colab": {
          "base_uri": "https://localhost:8080/",
          "height": 202
        },
        "outputId": "bcc84096-ba8e-4394-b769-65e564ea7bfa"
      },
      "source": [
        "alls.head()"
      ],
      "execution_count": 11,
      "outputs": [
        {
          "output_type": "execute_result",
          "data": {
            "text/html": [
              "<div>\n",
              "<style scoped>\n",
              "    .dataframe tbody tr th:only-of-type {\n",
              "        vertical-align: middle;\n",
              "    }\n",
              "\n",
              "    .dataframe tbody tr th {\n",
              "        vertical-align: top;\n",
              "    }\n",
              "\n",
              "    .dataframe thead th {\n",
              "        text-align: right;\n",
              "    }\n",
              "</style>\n",
              "<table border=\"1\" class=\"dataframe\">\n",
              "  <thead>\n",
              "    <tr style=\"text-align: right;\">\n",
              "      <th></th>\n",
              "      <th>movieId</th>\n",
              "      <th>title</th>\n",
              "      <th>genres</th>\n",
              "      <th>title_cast</th>\n",
              "      <th>director</th>\n",
              "      <th>runtime</th>\n",
              "      <th>budget</th>\n",
              "      <th>plot_keywords</th>\n",
              "    </tr>\n",
              "  </thead>\n",
              "  <tbody>\n",
              "    <tr>\n",
              "      <th>0</th>\n",
              "      <td>1</td>\n",
              "      <td>Toy Story (1995)</td>\n",
              "      <td>[Adventure, Animation, Children, Comedy, Fantasy]</td>\n",
              "      <td>Tom Hanks|Tim Allen|Don Rickles|Jim Varney|Wal...</td>\n",
              "      <td>John Lasseter</td>\n",
              "      <td>81.0</td>\n",
              "      <td>$30,000,000</td>\n",
              "      <td>toy|rivalry|cowboy|cgi animation</td>\n",
              "    </tr>\n",
              "    <tr>\n",
              "      <th>1</th>\n",
              "      <td>2</td>\n",
              "      <td>Jumanji (1995)</td>\n",
              "      <td>[Adventure, Children, Fantasy]</td>\n",
              "      <td>Robin Williams|Jonathan Hyde|Kirsten Dunst|Bra...</td>\n",
              "      <td>Jonathan Hensleigh</td>\n",
              "      <td>104.0</td>\n",
              "      <td>$65,000,000</td>\n",
              "      <td>board game|adventurer|fight|game</td>\n",
              "    </tr>\n",
              "    <tr>\n",
              "      <th>2</th>\n",
              "      <td>3</td>\n",
              "      <td>Grumpier Old Men (1995)</td>\n",
              "      <td>[Comedy, Romance]</td>\n",
              "      <td>Walter Matthau|Jack Lemmon|Sophia Loren|Ann-Ma...</td>\n",
              "      <td>Mark Steven Johnson</td>\n",
              "      <td>101.0</td>\n",
              "      <td>$25,000,000</td>\n",
              "      <td>boat|lake|neighbor|rivalry</td>\n",
              "    </tr>\n",
              "    <tr>\n",
              "      <th>3</th>\n",
              "      <td>4</td>\n",
              "      <td>Waiting to Exhale (1995)</td>\n",
              "      <td>[Comedy, Drama, Romance]</td>\n",
              "      <td>Whitney Houston|Angela Bassett|Loretta Devine|...</td>\n",
              "      <td>Terry McMillan</td>\n",
              "      <td>124.0</td>\n",
              "      <td>$16,000,000</td>\n",
              "      <td>black american|husband wife relationship|betra...</td>\n",
              "    </tr>\n",
              "    <tr>\n",
              "      <th>4</th>\n",
              "      <td>5</td>\n",
              "      <td>Father of the Bride Part II (1995)</td>\n",
              "      <td>[Comedy]</td>\n",
              "      <td>Steve Martin|Diane Keaton|Martin Short|Kimberl...</td>\n",
              "      <td>Albert Hackett</td>\n",
              "      <td>106.0</td>\n",
              "      <td>$30,000,000</td>\n",
              "      <td>fatherhood|doberman|dog|mansion</td>\n",
              "    </tr>\n",
              "  </tbody>\n",
              "</table>\n",
              "</div>"
            ],
            "text/plain": [
              "   movieId  ...                                      plot_keywords\n",
              "0        1  ...                   toy|rivalry|cowboy|cgi animation\n",
              "1        2  ...                   board game|adventurer|fight|game\n",
              "2        3  ...                         boat|lake|neighbor|rivalry\n",
              "3        4  ...  black american|husband wife relationship|betra...\n",
              "4        5  ...                    fatherhood|doberman|dog|mansion\n",
              "\n",
              "[5 rows x 8 columns]"
            ]
          },
          "metadata": {
            "tags": []
          },
          "execution_count": 11
        }
      ]
    },
    {
      "cell_type": "markdown",
      "metadata": {
        "id": "N-cDdV9CqKTg",
        "colab_type": "text"
      },
      "source": [
        "###DROP COLUMNS \n",
        "\n",
        "RUNTIME AND BUDGET DO NOT REALLY INFLUENCE A USER'S CHOICE IN MOVIE PREFERNCES SO WE CAN DROP THESE FROM OUR MERGED DATASET. "
      ]
    },
    {
      "cell_type": "code",
      "metadata": {
        "id": "PSILvsMOdsyZ",
        "colab_type": "code",
        "colab": {}
      },
      "source": [
        "alls = alls.drop(['runtime', 'budget'], axis = 1)\n",
        "alls = alls.drop('movieId', axis = 1)"
      ],
      "execution_count": 12,
      "outputs": []
    },
    {
      "cell_type": "code",
      "metadata": {
        "id": "9pQpAcd0ds1t",
        "colab_type": "code",
        "colab": {
          "base_uri": "https://localhost:8080/",
          "height": 121
        },
        "outputId": "084af9be-0075-4cce-f673-cf0ca6ead763"
      },
      "source": [
        "alls.isna().sum()"
      ],
      "execution_count": 13,
      "outputs": [
        {
          "output_type": "execute_result",
          "data": {
            "text/plain": [
              "title            0\n",
              "genres           0\n",
              "title_cast       0\n",
              "director         0\n",
              "plot_keywords    0\n",
              "dtype: int64"
            ]
          },
          "metadata": {
            "tags": []
          },
          "execution_count": 13
        }
      ]
    },
    {
      "cell_type": "markdown",
      "metadata": {
        "id": "xgexYqA6thjF",
        "colab_type": "text"
      },
      "source": [
        "WE CONTINUE TO REMOVE ANY EXTRA SYMBOLS THAT COULD MESS WITH OUR RECOMMENDATION SYSTEM.\n",
        "\n",
        "THE YEARS ARE ALSO REMOVED FROM THE TITLE COLUMN BECAUSE FOR THIS PARTICULAR MODEL, OUR FOCUS IS JUST RETURNING A LIST OF RECOMMENDED MOVIES."
      ]
    },
    {
      "cell_type": "code",
      "metadata": {
        "id": "-3WfkAXddtAG",
        "colab_type": "code",
        "colab": {}
      },
      "source": [
        "alls['title_cast'] = alls.title_cast.str.split('|')\n",
        "alls['plot_keywords'] = alls.plot_keywords.str.split('|')\n",
        "alls['title'] = alls['title'].str.extract('(.*)\\((\\d{4})\\)', expand=False)"
      ],
      "execution_count": 14,
      "outputs": []
    },
    {
      "cell_type": "code",
      "metadata": {
        "id": "c7BRtP5qds-E",
        "colab_type": "code",
        "colab": {
          "base_uri": "https://localhost:8080/",
          "height": 202
        },
        "outputId": "d200bdfc-e2da-4a7c-974b-919d9698b55a"
      },
      "source": [
        "alls.head()"
      ],
      "execution_count": 15,
      "outputs": [
        {
          "output_type": "execute_result",
          "data": {
            "text/html": [
              "<div>\n",
              "<style scoped>\n",
              "    .dataframe tbody tr th:only-of-type {\n",
              "        vertical-align: middle;\n",
              "    }\n",
              "\n",
              "    .dataframe tbody tr th {\n",
              "        vertical-align: top;\n",
              "    }\n",
              "\n",
              "    .dataframe thead th {\n",
              "        text-align: right;\n",
              "    }\n",
              "</style>\n",
              "<table border=\"1\" class=\"dataframe\">\n",
              "  <thead>\n",
              "    <tr style=\"text-align: right;\">\n",
              "      <th></th>\n",
              "      <th>title</th>\n",
              "      <th>genres</th>\n",
              "      <th>title_cast</th>\n",
              "      <th>director</th>\n",
              "      <th>plot_keywords</th>\n",
              "    </tr>\n",
              "  </thead>\n",
              "  <tbody>\n",
              "    <tr>\n",
              "      <th>0</th>\n",
              "      <td>Toy Story</td>\n",
              "      <td>[Adventure, Animation, Children, Comedy, Fantasy]</td>\n",
              "      <td>[Tom Hanks, Tim Allen, Don Rickles, Jim Varney...</td>\n",
              "      <td>John Lasseter</td>\n",
              "      <td>[toy, rivalry, cowboy, cgi animation]</td>\n",
              "    </tr>\n",
              "    <tr>\n",
              "      <th>1</th>\n",
              "      <td>Jumanji</td>\n",
              "      <td>[Adventure, Children, Fantasy]</td>\n",
              "      <td>[Robin Williams, Jonathan Hyde, Kirsten Dunst,...</td>\n",
              "      <td>Jonathan Hensleigh</td>\n",
              "      <td>[board game, adventurer, fight, game]</td>\n",
              "    </tr>\n",
              "    <tr>\n",
              "      <th>2</th>\n",
              "      <td>Grumpier Old Men</td>\n",
              "      <td>[Comedy, Romance]</td>\n",
              "      <td>[Walter Matthau, Jack Lemmon, Sophia Loren, An...</td>\n",
              "      <td>Mark Steven Johnson</td>\n",
              "      <td>[boat, lake, neighbor, rivalry]</td>\n",
              "    </tr>\n",
              "    <tr>\n",
              "      <th>3</th>\n",
              "      <td>Waiting to Exhale</td>\n",
              "      <td>[Comedy, Drama, Romance]</td>\n",
              "      <td>[Whitney Houston, Angela Bassett, Loretta Devi...</td>\n",
              "      <td>Terry McMillan</td>\n",
              "      <td>[black american, husband wife relationship, be...</td>\n",
              "    </tr>\n",
              "    <tr>\n",
              "      <th>4</th>\n",
              "      <td>Father of the Bride Part II</td>\n",
              "      <td>[Comedy]</td>\n",
              "      <td>[Steve Martin, Diane Keaton, Martin Short, Kim...</td>\n",
              "      <td>Albert Hackett</td>\n",
              "      <td>[fatherhood, doberman, dog, mansion]</td>\n",
              "    </tr>\n",
              "  </tbody>\n",
              "</table>\n",
              "</div>"
            ],
            "text/plain": [
              "                          title  ...                                      plot_keywords\n",
              "0                    Toy Story   ...              [toy, rivalry, cowboy, cgi animation]\n",
              "1                      Jumanji   ...              [board game, adventurer, fight, game]\n",
              "2             Grumpier Old Men   ...                    [boat, lake, neighbor, rivalry]\n",
              "3            Waiting to Exhale   ...  [black american, husband wife relationship, be...\n",
              "4  Father of the Bride Part II   ...               [fatherhood, doberman, dog, mansion]\n",
              "\n",
              "[5 rows x 5 columns]"
            ]
          },
          "metadata": {
            "tags": []
          },
          "execution_count": 15
        }
      ]
    },
    {
      "cell_type": "markdown",
      "metadata": {
        "id": "2EmQgkl3uVwI",
        "colab_type": "text"
      },
      "source": [
        "###WE THEN NEED TO CONVERT THE DATA TO LOWERCASE AND REMOVE SPACES INORDER TO ENSURE THAT OUR SYSTEM DOES NOT CONSIDER MOVIES OR PEOPLE THAT BEGIN WITH THE SAME WORDS AS THE EXACT SAME THING.\n",
        "E.G \"JAMES BOND\" AND \"JAMES CARTER\" COULD BE SEEN AS THE SAME NAME."
      ]
    },
    {
      "cell_type": "code",
      "metadata": {
        "id": "GrS4bzXKbP1L",
        "colab_type": "code",
        "colab": {}
      },
      "source": [
        "def clean(x):\n",
        "    if isinstance(x, list):\n",
        "        return [str.lower(i.replace(\" \", \"\")) for i in x]\n",
        "    else:\n",
        "        \n",
        "        if isinstance(x, str):\n",
        "            return str.lower(x.replace(\" \", \"\"))\n",
        "        else:\n",
        "            return ''"
      ],
      "execution_count": 16,
      "outputs": []
    },
    {
      "cell_type": "code",
      "metadata": {
        "id": "J4BHS_osl49O",
        "colab_type": "code",
        "colab": {}
      },
      "source": [
        "for items in alls:\n",
        "    alls[items] = alls[items].apply(clean)"
      ],
      "execution_count": 17,
      "outputs": []
    },
    {
      "cell_type": "code",
      "metadata": {
        "id": "vo3irLzedHjU",
        "colab_type": "code",
        "colab": {
          "base_uri": "https://localhost:8080/",
          "height": 202
        },
        "outputId": "18aa94d9-0f49-4ab0-bbaf-d7812acb909f"
      },
      "source": [
        "alls.head()"
      ],
      "execution_count": 18,
      "outputs": [
        {
          "output_type": "execute_result",
          "data": {
            "text/html": [
              "<div>\n",
              "<style scoped>\n",
              "    .dataframe tbody tr th:only-of-type {\n",
              "        vertical-align: middle;\n",
              "    }\n",
              "\n",
              "    .dataframe tbody tr th {\n",
              "        vertical-align: top;\n",
              "    }\n",
              "\n",
              "    .dataframe thead th {\n",
              "        text-align: right;\n",
              "    }\n",
              "</style>\n",
              "<table border=\"1\" class=\"dataframe\">\n",
              "  <thead>\n",
              "    <tr style=\"text-align: right;\">\n",
              "      <th></th>\n",
              "      <th>title</th>\n",
              "      <th>genres</th>\n",
              "      <th>title_cast</th>\n",
              "      <th>director</th>\n",
              "      <th>plot_keywords</th>\n",
              "    </tr>\n",
              "  </thead>\n",
              "  <tbody>\n",
              "    <tr>\n",
              "      <th>0</th>\n",
              "      <td>toystory</td>\n",
              "      <td>[adventure, animation, children, comedy, fantasy]</td>\n",
              "      <td>[tomhanks, timallen, donrickles, jimvarney, wa...</td>\n",
              "      <td>johnlasseter</td>\n",
              "      <td>[toy, rivalry, cowboy, cgianimation]</td>\n",
              "    </tr>\n",
              "    <tr>\n",
              "      <th>1</th>\n",
              "      <td>jumanji</td>\n",
              "      <td>[adventure, children, fantasy]</td>\n",
              "      <td>[robinwilliams, jonathanhyde, kirstendunst, br...</td>\n",
              "      <td>jonathanhensleigh</td>\n",
              "      <td>[boardgame, adventurer, fight, game]</td>\n",
              "    </tr>\n",
              "    <tr>\n",
              "      <th>2</th>\n",
              "      <td>grumpieroldmen</td>\n",
              "      <td>[comedy, romance]</td>\n",
              "      <td>[waltermatthau, jacklemmon, sophialoren, ann-m...</td>\n",
              "      <td>markstevenjohnson</td>\n",
              "      <td>[boat, lake, neighbor, rivalry]</td>\n",
              "    </tr>\n",
              "    <tr>\n",
              "      <th>3</th>\n",
              "      <td>waitingtoexhale</td>\n",
              "      <td>[comedy, drama, romance]</td>\n",
              "      <td>[whitneyhouston, angelabassett, lorettadevine,...</td>\n",
              "      <td>terrymcmillan</td>\n",
              "      <td>[blackamerican, husbandwiferelationship, betra...</td>\n",
              "    </tr>\n",
              "    <tr>\n",
              "      <th>4</th>\n",
              "      <td>fatherofthebridepartii</td>\n",
              "      <td>[comedy]</td>\n",
              "      <td>[stevemartin, dianekeaton, martinshort, kimber...</td>\n",
              "      <td>alberthackett</td>\n",
              "      <td>[fatherhood, doberman, dog, mansion]</td>\n",
              "    </tr>\n",
              "  </tbody>\n",
              "</table>\n",
              "</div>"
            ],
            "text/plain": [
              "                    title  ...                                      plot_keywords\n",
              "0                toystory  ...               [toy, rivalry, cowboy, cgianimation]\n",
              "1                 jumanji  ...               [boardgame, adventurer, fight, game]\n",
              "2          grumpieroldmen  ...                    [boat, lake, neighbor, rivalry]\n",
              "3         waitingtoexhale  ...  [blackamerican, husbandwiferelationship, betra...\n",
              "4  fatherofthebridepartii  ...               [fatherhood, doberman, dog, mansion]\n",
              "\n",
              "[5 rows x 5 columns]"
            ]
          },
          "metadata": {
            "tags": []
          },
          "execution_count": 18
        }
      ]
    },
    {
      "cell_type": "markdown",
      "metadata": {
        "id": "wbQoZotAxFdF",
        "colab_type": "text"
      },
      "source": [
        "NOW THAT WE'VE CLEANED ALL OUR DATA AND HAVE DECIDED WHAT FEATURES ARE IMPORTANT, WE CREATE OUR METADATA SOUP THAT WILL BE USED IN VECTORIZING OUR DATA"
      ]
    },
    {
      "cell_type": "code",
      "metadata": {
        "id": "T3QMebcLdHmd",
        "colab_type": "code",
        "colab": {}
      },
      "source": [
        "def soup(x):\n",
        "    return ' '.join(x['genres']) + ' ' + ' '.join(x['title_cast']) + ' ' + x['director'] + ' ' + ' '.join(x['plot_keywords'])\n",
        "alls['soup'] = alls.apply(soup, axis=1)"
      ],
      "execution_count": 19,
      "outputs": []
    },
    {
      "cell_type": "markdown",
      "metadata": {
        "id": "qBDp8zax0BP7",
        "colab_type": "text"
      },
      "source": [
        "Next we'll write a function that will find us the top n similar papers based on cosine similarity:"
      ]
    },
    {
      "cell_type": "markdown",
      "metadata": {
        "id": "Rcfe41rQ5huo",
        "colab_type": "text"
      },
      "source": [
        "## WE THEN RESET THE INDEX\n",
        "\n",
        "THIS FUNCTION GENERATES A NEW DATAFRAME OR SERIES SETTING THE INDICES IN ORDER, STARTING FROM 0, MAKING IT EASIER TO WORK WITH THE DATAFRAME/SERIES."
      ]
    },
    {
      "cell_type": "code",
      "metadata": {
        "id": "nAeKImkM3G_a",
        "colab_type": "code",
        "colab": {}
      },
      "source": [
        "alls = alls.reset_index()\n",
        "indices = pd.Series(alls.index, index=alls['title'])"
      ],
      "execution_count": 20,
      "outputs": []
    },
    {
      "cell_type": "markdown",
      "metadata": {
        "id": "0AJc3LOy61t8",
        "colab_type": "text"
      },
      "source": [
        "#COUNTVECTORIZER\n",
        "\n",
        "IT PROVIDES A SIMPLE WAY TO BOTH TOKENIZER A COLLECTION OF TEXT DOCUMENTS AND BUILD A VOCABULARY OF KNOWN WORDS.\n",
        "\n",
        "ALSO ENABLING THE PRE-PROCESSING OF TEXT DATA PRIOR TO GENERATING THE VECTOR REPRESENTATION MAKING IT A HIGHLY FLEXIBLE FEATURE REPRESENTATION MODULE FOR TEXT."
      ]
    },
    {
      "cell_type": "code",
      "metadata": {
        "id": "nA76u5lq3HIn",
        "colab_type": "code",
        "colab": {}
      },
      "source": [
        "count = CountVectorizer(stop_words='english')\n",
        "count_matrix = count.fit_transform(alls['soup'])"
      ],
      "execution_count": 21,
      "outputs": []
    },
    {
      "cell_type": "markdown",
      "metadata": {
        "id": "JjkHC3Vh8kgf",
        "colab_type": "text"
      },
      "source": [
        "##COSINE SIMILARITY\n",
        "\n",
        "A METRIC USED TO DETERMINE HOW SIMILAR DATA/DOCUMENTS ARE.\n",
        "IT MEASURES SIMILARITY BETWEEN TWO TWO NON-ZERO VECTORS OF AN INNER PRODUCT SPACE THAT MEASURES THE COSINE OF THE ANGLE BETWEEN THEM."
      ]
    },
    {
      "cell_type": "code",
      "metadata": {
        "id": "kL8tvwAR3HGJ",
        "colab_type": "code",
        "colab": {}
      },
      "source": [
        "cosine_sim = cosine_similarity(count_matrix, count_matrix)"
      ],
      "execution_count": 22,
      "outputs": []
    },
    {
      "cell_type": "markdown",
      "metadata": {
        "id": "i-vClbOO052Z",
        "colab_type": "text"
      },
      "source": [
        "THE FINAL STEP BEFORE ASKING A RECOMMENDATION WILL BE TO WRITE A FUNCTION THAT CONSIDERS ALL OUR RELEVANT FEATURES ALONG WITH THE CONSINE SIMILARITY AND THEN RETRUNS A LIST OF RECOMENDATIONS."
      ]
    },
    {
      "cell_type": "code",
      "metadata": {
        "id": "BwS3ECVBmdFb",
        "colab_type": "code",
        "colab": {}
      },
      "source": [
        "def reco(title, cosine_sim = cosine_sim):\n",
        "    \n",
        "    idx = indices[title]\n",
        "\n",
        "    sim_scores = list(enumerate(cosine_sim[idx]))\n",
        "    sim_scores = sorted(sim_scores, key=lambda x: x[1], reverse=True)\n",
        "    sim_scores = sim_scores[1:11]\n",
        "\n",
        "    movie_indices = [i[0] for i in sim_scores]\n",
        "\n",
        "    # Return the top 10 most similar movies\n",
        "    return alls['title'].iloc[movie_indices]"
      ],
      "execution_count": 23,
      "outputs": []
    },
    {
      "cell_type": "markdown",
      "metadata": {
        "id": "hyuCdOay1iHo",
        "colab_type": "text"
      },
      "source": [
        "FINALY WE ARE NOW ABLE TO SUGGEST A MOVIE AND FIND OTHER SIMILAR MOVIES FOR OUR USER TO WATCH.  "
      ]
    },
    {
      "cell_type": "code",
      "metadata": {
        "id": "LvtowzLbbP7J",
        "colab_type": "code",
        "colab": {
          "base_uri": "https://localhost:8080/",
          "height": 208
        },
        "outputId": "43ea3d16-d25e-46dd-85a7-fa3989a68737"
      },
      "source": [
        "reco('jumanji', cosine_sim)"
      ],
      "execution_count": 24,
      "outputs": [
        {
          "output_type": "execute_result",
          "data": {
            "text/plain": [
              "986                           escapetowitchmountain\n",
              "1953                  darbyo'gillandthelittlepeople\n",
              "2002                                     returntooz\n",
              "2070                           neverendingstory,the\n",
              "2307                            santaclaus:themovie\n",
              "10715    brotherslionheart,the(brödernalejonhjärta)\n",
              "15233                             aliceinwonderland\n",
              "24008                   journeytothebeginningoftime\n",
              "898                                  wizardofoz,the\n",
              "1943                              blackcauldron,the\n",
              "Name: title, dtype: object"
            ]
          },
          "metadata": {
            "tags": []
          },
          "execution_count": 24
        }
      ]
    },
    {
      "cell_type": "code",
      "metadata": {
        "id": "Iu61IrXWbP5J",
        "colab_type": "code",
        "colab": {}
      },
      "source": [
        ""
      ],
      "execution_count": null,
      "outputs": []
    }
  ]
}